{
 "cells": [
  {
   "cell_type": "code",
   "execution_count": 1,
   "metadata": {},
   "outputs": [],
   "source": [
    "import popy as popy\n",
    "from popy.data_fakers.soep import soep_faker\n",
    "from popy.pop_maker import PopMaker\n",
    "\n",
    "import pandas as pd\n",
    "import random\n",
    "import matplotlib.pyplot as plt\n",
    "\n",
    "import datetime as dt"
   ]
  },
  {
   "cell_type": "code",
   "execution_count": 2,
   "metadata": {},
   "outputs": [],
   "source": [
    "class Agent(popy.Agent):\n",
    "    def __init__(self, model, *args, **kwargs):\n",
    "        super().__init__(model, *args, **kwargs)\n",
    "\n",
    "        self.infection_status = \"susceptible\"\n",
    "        self.days_since_infection = 0\n",
    "    \n",
    "\n",
    "    def infect(self):\n",
    "        if self.infection_status in [\"infectious\", \"symptomatic\"]:\n",
    "            for location in self.locations:\n",
    "                for agent_v in location.neighbors(self):\n",
    "                    if agent_v is not self:\n",
    "                        if agent_v.infection_status == \"susceptible\":\n",
    "                            visit_weight_v = location.visit_weights[agent_v.id]\n",
    "                            visit_weight_u = location.visit_weights[self.id]\n",
    "                            \n",
    "                            contact_weight = (visit_weight_u * visit_weight_v) / (24 * 24)\n",
    "                            \n",
    "\n",
    "                            infection_probability = self.model.p.infection_weight * contact_weight\n",
    "                            \n",
    "                            if random.random() < infection_probability:\n",
    "                                agent_v.infection_status = \"exposed\"\n",
    "    \n",
    "\n",
    "    def update_infection_status(self):\n",
    "        if self.infection_status in [\"exposed\", \"infectious\", \"symptomatic\"]:\n",
    "            self.days_since_infection += 1\n",
    "\n",
    "            if 2 <= self.days_since_infection <= 5:\n",
    "                self.infection_status = \"infectious\"\n",
    "            \n",
    "            elif 6 <= self.days_since_infection <= 10:\n",
    "                self.infection_status = \"symptomatic\"\n",
    "            \n",
    "            elif self.days_since_infection >= 11:\n",
    "                self.infection_status = \"recovered\""
   ]
  },
  {
   "cell_type": "code",
   "execution_count": 3,
   "metadata": {},
   "outputs": [],
   "source": [
    "class Home(popy.Location):\n",
    "    def setup(self):\n",
    "        self.is_home = True\n",
    "\n",
    "    def groupby(self, agent):\n",
    "        return agent.hid\n",
    "\n",
    "\n",
    "class Work(popy.Location):\n",
    "    def setup(self):\n",
    "        self.size = 10\n",
    "    \n",
    "    def can_affiliate(self, agent):\n",
    "        return agent.work_hours_day > 0\n",
    "\n",
    "    def get_visit_weight(self, agent):\n",
    "        return agent.work_hours_day\n",
    "\n",
    "\n",
    "class School(popy.Location):\n",
    "    def setup(self):\n",
    "        self.size = 25\n",
    "    \n",
    "    def can_affiliate(self, agent) -> bool:\n",
    "        return 6 <= agent.age <= 18\n",
    "    \n",
    "    def get_visit_weight(self, agent):\n",
    "        return 6\n",
    "    \n",
    "    def can_visit(self, agent):\n",
    "        # evtl. braucht man Location.can_visit() gar nicht, weil man das Besuchsgewicht ja auch einfach über Location.get_visit_weight() auf 0 setzen könnte .... ?\n",
    "        \n",
    "        visit = False\n",
    "        \n",
    "        # workday?\n",
    "        if agent.model.date.weekday() < 5:\n",
    "            # not ill?\n",
    "            if agent.infection_status != \"symptomatic\" or agent.infection_status == \"symptomatic\" and random.random() < 0.5:\n",
    "                # no holidays?\n",
    "                if random.random() < self.model.get_timetable_entry()[\"school\"]:\n",
    "                    visit = True\n",
    "    \n",
    "        return visit\n",
    "\n",
    "\n",
    "    def count_current_infections(self):\n",
    "        n_symptomatic = sum([agent.infection_status == \"symptomatic\" for agent in self.agents])\n",
    "\n",
    "\n",
    "class Friendship(popy.Location):\n",
    "    def setup(self):\n",
    "        self.size = 2\n",
    "    \n",
    "    def groupby(self, agent):\n",
    "        return (abs(agent.age + random.randint(-5,5)), agent.gender)\n",
    "    \n",
    "    def get_visit_weight(self, agent):\n",
    "        return 2\n",
    "    \n",
    "    def can_visit(self, agent):\n",
    "        return agent.model.date.weekday() >= 5"
   ]
  },
  {
   "cell_type": "code",
   "execution_count": null,
   "metadata": {},
   "outputs": [],
   "source": []
  },
  {
   "cell_type": "code",
   "execution_count": 4,
   "metadata": {},
   "outputs": [],
   "source": [
    "class Model(popy.Model):\n",
    "    \n",
    "    def setup(self):\n",
    "        df_soep = soep_faker.soep(size=self.p.n_agents)\n",
    "        \n",
    "        self.pop_maker = PopMaker(model=self)\n",
    "        \n",
    "        self.agents = self.pop_maker.create_agents(df=df_soep, agent_class=Agent)\n",
    "        self.locations = self.pop_maker.create_locations(agents=self.agents, location_classes=[Home, School, Work, Friendship])\n",
    "        \n",
    "        self.infection_list = []\n",
    "        self.date = dt.date(2020, 1, 1)\n",
    "\n",
    "        for agent in random.choices(self.agents, k=10):\n",
    "            agent.infection_status = \"exposed\"\n",
    "        \n",
    "\n",
    "        self.timetable = {\n",
    "            dt.date(2020, 1, 1): {\n",
    "                \"school\": 1,\n",
    "            },\n",
    "            dt.date(2020, 2, 1): {\n",
    "                \"school\": 0,\n",
    "            },\n",
    "            dt.date(2020, 2, 15): {\n",
    "                \"school\": 1,\n",
    "            }\n",
    "        }\n",
    "\n",
    "    def step(self):\n",
    "        self.agents.update_infection_status()\n",
    "        self.agents.infect()\n",
    "        \n",
    "    def update(self):\n",
    "        self.record(\"cumulative_infections\", sum([1 for agent in self.agents if agent.infection_status != \"susceptible\"]))\n",
    "        self.date = self.date + dt.timedelta(days=1)\n",
    "    \n",
    "    def get_timetable_entry(self):\n",
    "        for date_key in self.timetable:\n",
    "            if date_key <= self.date:\n",
    "                entry = self.timetable[date_key]\n",
    "        return entry\n"
   ]
  },
  {
   "cell_type": "code",
   "execution_count": 5,
   "metadata": {},
   "outputs": [
    {
     "name": "stdout",
     "output_type": "stream",
     "text": [
      "Completed: 50 steps\n",
      "Run time: 0:00:00.505041\n",
      "Simulation finished\n"
     ]
    },
    {
     "data": {
      "text/plain": [
       "[<matplotlib.lines.Line2D at 0x188299b2e10>]"
      ]
     },
     "execution_count": 5,
     "metadata": {},
     "output_type": "execute_result"
    },
    {
     "data": {
      "image/png": "[encoded data removed]",
      "text/plain": [
       "<Figure size 640x480 with 1 Axes>"
      ]
     },
     "metadata": {},
     "output_type": "display_data"
    }
   ],
   "source": [
    "parameters = {\n",
    "    \"steps\": 50,\n",
    "    \"n_agents\": 1000,\n",
    "    \"infection_weight\": 0.1,\n",
    "}\n",
    "model = Model(parameters=parameters)\n",
    "\n",
    "results = model.run()\n",
    "\n",
    "plt.plot(results.variables.Model.cumulative_infections)"
   ]
  },
  {
   "cell_type": "code",
   "execution_count": 6,
   "metadata": {},
   "outputs": [
    {
     "name": "stdout",
     "output_type": "stream",
     "text": [
      "\n",
      "\n",
      "______________________________________\n",
      "Number of agents per location\n",
      "______________________________________\n",
      "\n",
      "               n_agents                                                   \n",
      "                  count       mean       std   min   25%   50%   75%   max\n",
      "location_class                                                            \n",
      "Friendship        517.0   1.922631  0.522563   0.0   2.0   2.0   2.0   3.0\n",
      "Home              308.0   3.246753  1.566388   1.0   2.0   3.0   4.0   9.0\n",
      "School              3.0  28.000000  1.732051  27.0  27.0  27.0  28.5  30.0\n",
      "Work               43.0   9.953488  0.304997   8.0  10.0  10.0  10.0  10.0\n",
      "\n",
      "\n",
      "______________________________________\n",
      "Number of affiliated locations per agent\n",
      "______________________________________\n",
      "\n",
      "count    1000.000000\n",
      "mean        2.506000\n",
      "std         1.045494\n",
      "min         1.000000\n",
      "25%         2.000000\n",
      "50%         2.000000\n",
      "75%         3.000000\n",
      "max         7.000000\n",
      "Name: n_affiliated_locations, dtype: float64\n"
     ]
    }
   ],
   "source": [
    "model.pop_maker.eval_affiliations()"
   ]
  }
 ],
 "metadata": {
  "kernelspec": {
   "display_name": ".venv",
   "language": "python",
   "name": "python3"
  },
  "language_info": {
   "codemirror_mode": {
    "name": "ipython",
    "version": 3
   },
   "file_extension": ".py",
   "mimetype": "text/x-python",
   "name": "python",
   "nbconvert_exporter": "python",
   "pygments_lexer": "ipython3",
   "version": "3.11.0"
  },
  "orig_nbformat": 4,
  "vscode": {
   "interpreter": {
    "hash": "4c46d36682f67267905d9bc9cc79ca9aaff02d7cf0731ee76c0ad38edf309fbb"
   }
  }
 },
 "nbformat": 4,
 "nbformat_minor": 2
}
