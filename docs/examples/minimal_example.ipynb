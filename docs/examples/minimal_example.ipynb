{
 "cells": [
  {
   "cell_type": "markdown",
   "id": "db0162f1",
   "metadata": {},
   "source": [
    "# Minimal Example\n",
    "\n",
    "This shows a very simple desease spread simulation\n"
   ]
  },
  {
   "cell_type": "code",
   "execution_count": 1,
   "id": "84c58ac0-83eb-4ddd-b0d2-dc71f29e9cf3",
   "metadata": {},
   "outputs": [],
   "source": [
    "import random\n",
    "\n",
    "import seaborn as sns\n",
    "\n",
    "import popy\n",
    "\n",
    "# for reproducibilty\n",
    "random.seed(1337)"
   ]
  },
  {
   "cell_type": "markdown",
   "id": "4a4c4215",
   "metadata": {},
   "source": [
    "Let's set up two kinds of agents. They are very similar - except one is healthy and the other one is infected.\n"
   ]
  },
  {
   "cell_type": "code",
   "execution_count": 2,
   "id": "81548f58",
   "metadata": {},
   "outputs": [],
   "source": [
    "class InfectionAgent(popy.Agent):\n",
    "    def setup(self):\n",
    "        self.is_infected = False\n",
    "\n",
    "    def infect(self):\n",
    "        if not self.is_infected:\n",
    "            return\n",
    "        for contact in self.contacts():\n",
    "            # if person is infected:\n",
    "            # every contact in in every\n",
    "            # shared location is infected with .1 propability\n",
    "            p_infect = random.random()\n",
    "            if p_infect < 0.1:\n",
    "                contact.is_infected = True"
   ]
  },
  {
   "cell_type": "markdown",
   "id": "f8f628ea",
   "metadata": {},
   "source": [
    "We can now create our Population and assign agents to some locations. Agents can **only** interact if they share at least one location.\n"
   ]
  },
  {
   "cell_type": "code",
   "execution_count": 3,
   "id": "0fd26755",
   "metadata": {},
   "outputs": [],
   "source": [
    "class Population:\n",
    "    def __init__(self, model) -> None:\n",
    "        self.model = model\n",
    "\n",
    "        # create 5 agents - none of them are infected right now\n",
    "        self.agents = popy.AgentList(model, 6, InfectionAgent)\n",
    "\n",
    "        # set one random agent to be infected\n",
    "        self.agents.random().is_infected = 1\n",
    "\n",
    "        # create 3 different locations\n",
    "        self.locations = popy.LocationList(model, 3, popy.Location)\n",
    "\n",
    "        # home 1\n",
    "        self.agents[0].add_location(self.locations[0])\n",
    "        self.agents[1].add_location(self.locations[0])\n",
    "        self.agents[2].add_location(self.locations[0])\n",
    "\n",
    "        # school\n",
    "        self.agents[2].add_location(self.locations[1])\n",
    "        self.agents[3].add_location(self.locations[1])\n",
    "\n",
    "        # home 2\n",
    "        self.agents[3].add_location(self.locations[2])\n",
    "        self.agents[4].add_location(self.locations[2])\n",
    "        self.agents[5].add_location(self.locations[2])\n",
    "\n",
    "        self.agents.shuffle()\n",
    "\n",
    "    def update(self) -> None:\n",
    "        self.agents.visit_locations(self.model)"
   ]
  },
  {
   "cell_type": "markdown",
   "id": "a2197ac2",
   "metadata": {},
   "source": [
    "Finally, we can specify our model like we do in agentpy.\n"
   ]
  },
  {
   "cell_type": "code",
   "execution_count": 4,
   "id": "fd001b3b",
   "metadata": {},
   "outputs": [],
   "source": [
    "class MyModel(popy.Model):\n",
    "    def setup(self):\n",
    "        self.population = Population(self)\n",
    "\n",
    "    def step(self):\n",
    "        self.population.agents.infect()\n",
    "\n",
    "    def update(self):\n",
    "        self.population.agents.record(\"is_infected\")\n",
    "\n",
    "    def end(self):\n",
    "        pass"
   ]
  },
  {
   "cell_type": "markdown",
   "id": "5a9d1a1f",
   "metadata": {},
   "source": [
    "Let's now row run our model:\n"
   ]
  },
  {
   "cell_type": "code",
   "execution_count": 5,
   "id": "94d41cf5",
   "metadata": {},
   "outputs": [
    {
     "name": "stdout",
     "output_type": "stream",
     "text": [
      "Completed: 30 steps\n",
      "Run time: 0:00:00.022031\n",
      "Simulation finished\n"
     ]
    }
   ],
   "source": [
    "model = MyModel(parameters={\"steps\": 30})\n",
    "results = model.run()"
   ]
  },
  {
   "cell_type": "markdown",
   "id": "c384d365",
   "metadata": {},
   "source": [
    "And plot the amount of infected agents at each timestep:\n"
   ]
  },
  {
   "cell_type": "code",
   "execution_count": 6,
   "id": "38b34a4d",
   "metadata": {},
   "outputs": [
    {
     "data": {
      "image/png": "[encoded data removed]",
      "text/plain": [
       "<Figure size 640x480 with 1 Axes>"
      ]
     },
     "metadata": {},
     "output_type": "display_data"
    }
   ],
   "source": [
    "df = results.arrange_variables()\n",
    "\n",
    "data = df.groupby(\"t\").is_infected.sum().reset_index()\n",
    "\n",
    "_ = sns.lineplot(data, x=\"t\", y=\"is_infected\")"
   ]
  }
 ],
 "metadata": {
  "kernelspec": {
   "display_name": "Python 3.10.7 ('.venv': poetry)",
   "language": "python",
   "name": "python3"
  },
  "language_info": {
   "codemirror_mode": {
    "name": "ipython",
    "version": 3
   },
   "file_extension": ".py",
   "mimetype": "text/x-python",
   "name": "python",
   "nbconvert_exporter": "python",
   "pygments_lexer": "ipython3",
   "version": "3.10.7"
  },
  "vscode": {
   "interpreter": {
    "hash": "c1071ec90655346142989e356fed387733096675dc36429f2e04c5f642259b50"
   }
  }
 },
 "nbformat": 4,
 "nbformat_minor": 5
}
