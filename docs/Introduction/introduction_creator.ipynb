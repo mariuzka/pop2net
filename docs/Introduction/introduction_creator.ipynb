{
 "cells": [
  {
   "cell_type": "markdown",
   "metadata": {},
   "source": [
    "# Designing networks\n",
    "\n",
    "The combination of agents and locations that exist in a model makes the life of an agent-based modeler much easier.\n",
    "Managing the relationships between agents in agent-based models is now very convenient.\n",
    "However, it is still very tedious to connect a large number of agents through a specific network structure.\n",
    "This is where the real magic of Pop2net comes into play.\n",
    "\n",
    "Pop2net enables you to design a specific network structure by the definition of a special kind of class: the `LocationDesigner`.\n",
    "A `LocationDesigner` can be considered as an *interface* with a special syntax to create a certain number of location instances that connect specific agents in a specific way.\n",
    "The assignment of agents to locations by the definition of a `LocationDesigner` is primarely done through agent attributes.\n",
    "Hence, **the creation of networks using pop2net makes the most sense when agents have informative attributes.**\n",
    "However, even when the agents in your simulation do not have any attributes the `LocationDesigner` class makes it easy to quickly connect agents in a certain way, for instance using classic network models.\n",
    "\n",
    "The creation of the network based on what is defined in a `LocationDesigner` is managed by the `Creator` class.\n",
    "The `Creator` *reads* the definition of a `LocationDesigner` and translates it into a certain number of certain location instances and then assigns the agents to the corresponding location instances."
   ]
  },
  {
   "cell_type": "markdown",
   "metadata": {},
   "source": [
    "## The Creator class\n",
    "\n",
    "In order to *design* a specific network in Pop2net, the first thing we need is an instance of the `Creator` class.\n",
    "The purpose of the `Creator` is to generate agents and locations as well as to connect agents and locations.\n",
    "Hence, the first step after creating a `Model` is the creation of an instance of `Creator`."
   ]
  },
  {
   "cell_type": "code",
   "execution_count": 1,
   "metadata": {},
   "outputs": [],
   "source": [
    "import pop2net as p2n\n",
    "\n",
    "model = p2n.Model()\n",
    "creator = p2n.Creator(model)"
   ]
  },
  {
   "cell_type": "code",
   "execution_count": 2,
   "metadata": {
    "nbsphinx": "hidden"
   },
   "outputs": [],
   "source": [
    "# this is a hidden cell which sets seeds for consistent outputs\n",
    "\n",
    "import random\n",
    "\n",
    "import numpy as np\n",
    "\n",
    "random.seed(0)\n",
    "np.random.seed(0)"
   ]
  },
  {
   "cell_type": "markdown",
   "metadata": {},
   "source": [
    "## Generating Agents\n",
    "\n",
    "Although the main task of Pop2net and the `Creator` class is connecting existing agents via the definition of `LocationDesigner`s, the `Creator` can also generate agents for you.\n",
    "A special feature of the `Creator` class is that it has some convenient methods to create agents based on micro-level data.\n",
    "This makes it easy to create *empirical* agents from survey data, for instance.\n",
    "\n",
    "Important to know is that while the generation of locations highly depents on the agents and their attributes, the generation of agents is independent from the generation of locations and their connection.\n",
    "This may be different from classic network generators in which you generate nodes and edges in one step.\n",
    "\n",
    "<div class=\"alert alert-block alert-info\">\n",
    "<b>Tip:</b> You do not have to generate your agent population using Pop2net or the Creator class. If you plan to create your agents in your own way and just want to connect your agents using Pop2net and the Creator class, you can skip this subsection! However, to connect agents using Pop2net, they must always inherit from the Pop2net agent class.\n",
    "</div>\n",
    "\n",
    "The simplest way to generate agents using a `creator` is by using the method `creator.create_agents()` and define the desired number or agents by setting a certain `n`:"
   ]
  },
  {
   "cell_type": "code",
   "execution_count": 3,
   "metadata": {},
   "outputs": [
    {
     "data": {
      "text/plain": [
       "AgentList (10 objects)"
      ]
     },
     "execution_count": 3,
     "metadata": {},
     "output_type": "execute_result"
    }
   ],
   "source": [
    "creator.create_agents(n=10)"
   ]
  },
  {
   "cell_type": "code",
   "execution_count": 4,
   "metadata": {},
   "outputs": [
    {
     "data": {
      "text/plain": [
       "AgentList (10 objects)"
      ]
     },
     "execution_count": 4,
     "metadata": {},
     "output_type": "execute_result"
    }
   ],
   "source": [
    "model.agents"
   ]
  },
  {
   "cell_type": "markdown",
   "metadata": {},
   "source": [
    "That is not very impressive.\n",
    "We could have done the same using a simple for-loop.\n",
    "Let's reset everything by removing those agents from the model:"
   ]
  },
  {
   "cell_type": "code",
   "execution_count": 5,
   "metadata": {},
   "outputs": [],
   "source": [
    "model.remove_agents(model.agents)"
   ]
  },
  {
   "cell_type": "code",
   "execution_count": 6,
   "metadata": {},
   "outputs": [
    {
     "data": {
      "text/plain": [
       "AgentList (0 objects)"
      ]
     },
     "execution_count": 6,
     "metadata": {},
     "output_type": "execute_result"
    }
   ],
   "source": [
    "model.agents"
   ]
  },
  {
   "cell_type": "markdown",
   "metadata": {},
   "source": [
    "Now let's have a look at an example for what Pop2net was originally designed:\n",
    "The creation of a population of agents based on survey data and their flexible connection via locations.\n",
    "For the following example, we assume that we want to create a network model for schools and have access to a sample of individual data collected in a school.\n",
    "This is our example data:"
   ]
  },
  {
   "cell_type": "code",
   "execution_count": 7,
   "metadata": {},
   "outputs": [
    {
     "data": {
      "text/html": [
       "<div>\n",
       "<style scoped>\n",
       "    .dataframe tbody tr th:only-of-type {\n",
       "        vertical-align: middle;\n",
       "    }\n",
       "\n",
       "    .dataframe tbody tr th {\n",
       "        vertical-align: top;\n",
       "    }\n",
       "\n",
       "    .dataframe thead th {\n",
       "        text-align: right;\n",
       "    }\n",
       "</style>\n",
       "<table border=\"1\" class=\"dataframe\">\n",
       "  <thead>\n",
       "    <tr style=\"text-align: right;\">\n",
       "      <th></th>\n",
       "      <th>status</th>\n",
       "      <th>gender</th>\n",
       "      <th>grade</th>\n",
       "      <th>hours</th>\n",
       "      <th>friend_group</th>\n",
       "    </tr>\n",
       "  </thead>\n",
       "  <tbody>\n",
       "    <tr>\n",
       "      <th>0</th>\n",
       "      <td>pupil</td>\n",
       "      <td>m</td>\n",
       "      <td>3.0</td>\n",
       "      <td>5</td>\n",
       "      <td>14</td>\n",
       "    </tr>\n",
       "    <tr>\n",
       "      <th>1</th>\n",
       "      <td>teacher</td>\n",
       "      <td>m</td>\n",
       "      <td>NaN</td>\n",
       "      <td>6</td>\n",
       "      <td>0</td>\n",
       "    </tr>\n",
       "    <tr>\n",
       "      <th>2</th>\n",
       "      <td>pupil</td>\n",
       "      <td>w</td>\n",
       "      <td>2.0</td>\n",
       "      <td>4</td>\n",
       "      <td>12</td>\n",
       "    </tr>\n",
       "    <tr>\n",
       "      <th>3</th>\n",
       "      <td>pupil</td>\n",
       "      <td>m</td>\n",
       "      <td>2.0</td>\n",
       "      <td>4</td>\n",
       "      <td>11</td>\n",
       "    </tr>\n",
       "    <tr>\n",
       "      <th>4</th>\n",
       "      <td>pupil</td>\n",
       "      <td>m</td>\n",
       "      <td>3.0</td>\n",
       "      <td>5</td>\n",
       "      <td>6</td>\n",
       "    </tr>\n",
       "  </tbody>\n",
       "</table>\n",
       "</div>"
      ],
      "text/plain": [
       "    status gender  grade  hours  friend_group\n",
       "0    pupil      m    3.0      5            14\n",
       "1  teacher      m    NaN      6             0\n",
       "2    pupil      w    2.0      4            12\n",
       "3    pupil      m    2.0      4            11\n",
       "4    pupil      m    3.0      5             6"
      ]
     },
     "execution_count": 7,
     "metadata": {},
     "output_type": "execute_result"
    }
   ],
   "source": [
    "import numpy as np\n",
    "import pandas as pd\n",
    "\n",
    "np.random.seed(0)\n",
    "\n",
    "df_school = (\n",
    "    pd.read_csv(\"example_school_data.csv\", sep=\";\")\n",
    "    .sample(frac=1, replace=False)\n",
    "    .reset_index(drop=True)\n",
    ")\n",
    "\n",
    "df_school.head()"
   ]
  },
  {
   "cell_type": "code",
   "execution_count": 8,
   "metadata": {},
   "outputs": [
    {
     "data": {
      "text/html": [
       "<div>\n",
       "<style scoped>\n",
       "    .dataframe tbody tr th:only-of-type {\n",
       "        vertical-align: middle;\n",
       "    }\n",
       "\n",
       "    .dataframe tbody tr th {\n",
       "        vertical-align: top;\n",
       "    }\n",
       "\n",
       "    .dataframe thead th {\n",
       "        text-align: right;\n",
       "    }\n",
       "</style>\n",
       "<table border=\"1\" class=\"dataframe\">\n",
       "  <thead>\n",
       "    <tr style=\"text-align: right;\">\n",
       "      <th></th>\n",
       "      <th>status</th>\n",
       "      <th>gender</th>\n",
       "      <th>grade</th>\n",
       "      <th>hours</th>\n",
       "      <th>friend_group</th>\n",
       "    </tr>\n",
       "  </thead>\n",
       "  <tbody>\n",
       "    <tr>\n",
       "      <th>37</th>\n",
       "      <td>teacher</td>\n",
       "      <td>w</td>\n",
       "      <td>NaN</td>\n",
       "      <td>9</td>\n",
       "      <td>0</td>\n",
       "    </tr>\n",
       "    <tr>\n",
       "      <th>38</th>\n",
       "      <td>pupil</td>\n",
       "      <td>w</td>\n",
       "      <td>3.0</td>\n",
       "      <td>5</td>\n",
       "      <td>5</td>\n",
       "    </tr>\n",
       "    <tr>\n",
       "      <th>39</th>\n",
       "      <td>social_worker</td>\n",
       "      <td>w</td>\n",
       "      <td>NaN</td>\n",
       "      <td>6</td>\n",
       "      <td>0</td>\n",
       "    </tr>\n",
       "    <tr>\n",
       "      <th>40</th>\n",
       "      <td>pupil</td>\n",
       "      <td>w</td>\n",
       "      <td>1.0</td>\n",
       "      <td>4</td>\n",
       "      <td>2</td>\n",
       "    </tr>\n",
       "    <tr>\n",
       "      <th>41</th>\n",
       "      <td>pupil</td>\n",
       "      <td>m</td>\n",
       "      <td>1.0</td>\n",
       "      <td>4</td>\n",
       "      <td>1</td>\n",
       "    </tr>\n",
       "  </tbody>\n",
       "</table>\n",
       "</div>"
      ],
      "text/plain": [
       "           status gender  grade  hours  friend_group\n",
       "37        teacher      w    NaN      9             0\n",
       "38          pupil      w    3.0      5             5\n",
       "39  social_worker      w    NaN      6             0\n",
       "40          pupil      w    1.0      4             2\n",
       "41          pupil      m    1.0      4             1"
      ]
     },
     "execution_count": 8,
     "metadata": {},
     "output_type": "execute_result"
    }
   ],
   "source": [
    "df_school.tail()"
   ]
  },
  {
   "cell_type": "markdown",
   "metadata": {},
   "source": [
    "To create agents from this dataset, we can simply use the method `creator.create_agents()`.\n",
    "This method creates one agent object for each row in the given dataset.\n",
    "Each column is translated into an agent attribute with the corresponding value."
   ]
  },
  {
   "cell_type": "code",
   "execution_count": 9,
   "metadata": {},
   "outputs": [
    {
     "data": {
      "text/plain": [
       "AgentList (42 objects)"
      ]
     },
     "execution_count": 9,
     "metadata": {},
     "output_type": "execute_result"
    }
   ],
   "source": [
    "creator.create_agents(df=df_school)"
   ]
  },
  {
   "cell_type": "markdown",
   "metadata": {},
   "source": [
    "The created agents are added to the model's network and thus appear in `model.agents`:"
   ]
  },
  {
   "cell_type": "code",
   "execution_count": 10,
   "metadata": {},
   "outputs": [
    {
     "data": {
      "text/plain": [
       "AgentList (42 objects)"
      ]
     },
     "execution_count": 10,
     "metadata": {},
     "output_type": "execute_result"
    }
   ],
   "source": [
    "model.agents"
   ]
  },
  {
   "cell_type": "markdown",
   "metadata": {},
   "source": [
    "Let's also take a look at the network graph to better understand that the agents are now in the graph of the model, but not yet connected to each other:"
   ]
  },
  {
   "cell_type": "code",
   "execution_count": 11,
   "metadata": {},
   "outputs": [
    {
     "data": {
      "application/javascript": "'use strict';\n(function(root) {\n  function now() {\n    return new Date();\n  }\n\n  const force = true;\n\n  if (typeof root._bokeh_onload_callbacks === \"undefined\" || force === true) {\n    root._bokeh_onload_callbacks = [];\n    root._bokeh_is_loading = undefined;\n  }\n\nconst JS_MIME_TYPE = 'application/javascript';\n  const HTML_MIME_TYPE = 'text/html';\n  const EXEC_MIME_TYPE = 'application/vnd.bokehjs_exec.v0+json';\n  const CLASS_NAME = 'output_bokeh rendered_html';\n\n  /**\n   * Render data to the DOM node\n   */\n  function render(props, node) {\n    const script = document.createElement(\"script\");\n    node.appendChild(script);\n  }\n\n  /**\n   * Handle when an output is cleared or removed\n   */\n  function handleClearOutput(event, handle) {\n    function drop(id) {\n      const view = Bokeh.index.get_by_id(id)\n      if (view != null) {\n        view.model.document.clear()\n        Bokeh.index.delete(view)\n      }\n    }\n\n    const cell = handle.cell;\n\n    const id = cell.output_area._bokeh_element_id;\n    const server_id = cell.output_area._bokeh_server_id;\n\n    // Clean up Bokeh references\n    if (id != null) {\n      drop(id)\n    }\n\n    if (server_id !== undefined) {\n      // Clean up Bokeh references\n      const cmd_clean = \"from bokeh.io.state import curstate; print(curstate().uuid_to_server['\" + server_id + \"'].get_sessions()[0].document.roots[0]._id)\";\n      cell.notebook.kernel.execute(cmd_clean, {\n        iopub: {\n          output: function(msg) {\n            const id = msg.content.text.trim()\n            drop(id)\n          }\n        }\n      });\n      // Destroy server and session\n      const cmd_destroy = \"import bokeh.io.notebook as ion; ion.destroy_server('\" + server_id + \"')\";\n      cell.notebook.kernel.execute(cmd_destroy);\n    }\n  }\n\n  /**\n   * Handle when a new output is added\n   */\n  function handleAddOutput(event, handle) {\n    const output_area = handle.output_area;\n    const output = handle.output;\n\n    // limit handleAddOutput to display_data with EXEC_MIME_TYPE content only\n    if ((output.output_type != \"display_data\") || (!Object.prototype.hasOwnProperty.call(output.data, EXEC_MIME_TYPE))) {\n      return\n    }\n\n    const toinsert = output_area.element.find(\".\" + CLASS_NAME.split(' ')[0]);\n\n    if (output.metadata[EXEC_MIME_TYPE][\"id\"] !== undefined) {\n      toinsert[toinsert.length - 1].firstChild.textContent = output.data[JS_MIME_TYPE];\n      // store reference to embed id on output_area\n      output_area._bokeh_element_id = output.metadata[EXEC_MIME_TYPE][\"id\"];\n    }\n    if (output.metadata[EXEC_MIME_TYPE][\"server_id\"] !== undefined) {\n      const bk_div = document.createElement(\"div\");\n      bk_div.innerHTML = output.data[HTML_MIME_TYPE];\n      const script_attrs = bk_div.children[0].attributes;\n      for (let i = 0; i < script_attrs.length; i++) {\n        toinsert[toinsert.length - 1].firstChild.setAttribute(script_attrs[i].name, script_attrs[i].value);\n        toinsert[toinsert.length - 1].firstChild.textContent = bk_div.children[0].textContent\n      }\n      // store reference to server id on output_area\n      output_area._bokeh_server_id = output.metadata[EXEC_MIME_TYPE][\"server_id\"];\n    }\n  }\n\n  function register_renderer(events, OutputArea) {\n\n    function append_mime(data, metadata, element) {\n      // create a DOM node to render to\n      const toinsert = this.create_output_subarea(\n        metadata,\n        CLASS_NAME,\n        EXEC_MIME_TYPE\n      );\n      this.keyboard_manager.register_events(toinsert);\n      // Render to node\n      const props = {data: data, metadata: metadata[EXEC_MIME_TYPE]};\n      render(props, toinsert[toinsert.length - 1]);\n      element.append(toinsert);\n      return toinsert\n    }\n\n    /* Handle when an output is cleared or removed */\n    events.on('clear_output.CodeCell', handleClearOutput);\n    events.on('delete.Cell', handleClearOutput);\n\n    /* Handle when a new output is added */\n    events.on('output_added.OutputArea', handleAddOutput);\n\n    /**\n     * Register the mime type and append_mime function with output_area\n     */\n    OutputArea.prototype.register_mime_type(EXEC_MIME_TYPE, append_mime, {\n      /* Is output safe? */\n      safe: true,\n      /* Index of renderer in `output_area.display_order` */\n      index: 0\n    });\n  }\n\n  // register the mime type if in Jupyter Notebook environment and previously unregistered\n  if (root.Jupyter !== undefined) {\n    const events = require('base/js/events');\n    const OutputArea = require('notebook/js/outputarea').OutputArea;\n\n    if (OutputArea.prototype.mime_types().indexOf(EXEC_MIME_TYPE) == -1) {\n      register_renderer(events, OutputArea);\n    }\n  }\n  if (typeof (root._bokeh_timeout) === \"undefined\" || force === true) {\n    root._bokeh_timeout = Date.now() + 5000;\n    root._bokeh_failed_load = false;\n  }\n\n  const NB_LOAD_WARNING = {'data': {'text/html':\n     \"<div style='background-color: #fdd'>\\n\"+\n     \"<p>\\n\"+\n     \"BokehJS does not appear to have successfully loaded. If loading BokehJS from CDN, this \\n\"+\n     \"may be due to a slow or bad network connection. Possible fixes:\\n\"+\n     \"</p>\\n\"+\n     \"<ul>\\n\"+\n     \"<li>re-rerun `output_notebook()` to attempt to load from CDN again, or</li>\\n\"+\n     \"<li>use INLINE resources instead, as so:</li>\\n\"+\n     \"</ul>\\n\"+\n     \"<code>\\n\"+\n     \"from bokeh.resources import INLINE\\n\"+\n     \"output_notebook(resources=INLINE)\\n\"+\n     \"</code>\\n\"+\n     \"</div>\"}};\n\n  function display_loaded(error = null) {\n    const el = document.getElementById(null);\n    if (el != null) {\n      const html = (() => {\n        if (typeof root.Bokeh === \"undefined\") {\n          if (error == null) {\n            return \"BokehJS is loading ...\";\n          } else {\n            return \"BokehJS failed to load.\";\n          }\n        } else {\n          const prefix = `BokehJS ${root.Bokeh.version}`;\n          if (error == null) {\n            return `${prefix} successfully loaded.`;\n          } else {\n            return `${prefix} <b>encountered errors</b> while loading and may not function as expected.`;\n          }\n        }\n      })();\n      el.innerHTML = html;\n\n      if (error != null) {\n        const wrapper = document.createElement(\"div\");\n        wrapper.style.overflow = \"auto\";\n        wrapper.style.height = \"5em\";\n        wrapper.style.resize = \"vertical\";\n        const content = document.createElement(\"div\");\n        content.style.fontFamily = \"monospace\";\n        content.style.whiteSpace = \"pre-wrap\";\n        content.style.backgroundColor = \"rgb(255, 221, 221)\";\n        content.textContent = error.stack ?? error.toString();\n        wrapper.append(content);\n        el.append(wrapper);\n      }\n    } else if (Date.now() < root._bokeh_timeout) {\n      setTimeout(() => display_loaded(error), 100);\n    }\n  }\n\n  function run_callbacks() {\n    try {\n      root._bokeh_onload_callbacks.forEach(function(callback) {\n        if (callback != null)\n          callback();\n      });\n    } finally {\n      delete root._bokeh_onload_callbacks\n    }\n    console.debug(\"Bokeh: all callbacks have finished\");\n  }\n\n  function load_libs(css_urls, js_urls, callback) {\n    if (css_urls == null) css_urls = [];\n    if (js_urls == null) js_urls = [];\n\n    root._bokeh_onload_callbacks.push(callback);\n    if (root._bokeh_is_loading > 0) {\n      console.debug(\"Bokeh: BokehJS is being loaded, scheduling callback at\", now());\n      return null;\n    }\n    if (js_urls == null || js_urls.length === 0) {\n      run_callbacks();\n      return null;\n    }\n    console.debug(\"Bokeh: BokehJS not loaded, scheduling load and callback at\", now());\n    root._bokeh_is_loading = css_urls.length + js_urls.length;\n\n    function on_load() {\n      root._bokeh_is_loading--;\n      if (root._bokeh_is_loading === 0) {\n        console.debug(\"Bokeh: all BokehJS libraries/stylesheets loaded\");\n        run_callbacks()\n      }\n    }\n\n    function on_error(url) {\n      console.error(\"failed to load \" + url);\n    }\n\n    for (let i = 0; i < css_urls.length; i++) {\n      const url = css_urls[i];\n      const element = document.createElement(\"link\");\n      element.onload = on_load;\n      element.onerror = on_error.bind(null, url);\n      element.rel = \"stylesheet\";\n      element.type = \"text/css\";\n      element.href = url;\n      console.debug(\"Bokeh: injecting link tag for BokehJS stylesheet: \", url);\n      document.body.appendChild(element);\n    }\n\n    for (let i = 0; i < js_urls.length; i++) {\n      const url = js_urls[i];\n      const element = document.createElement('script');\n      element.onload = on_load;\n      element.onerror = on_error.bind(null, url);\n      element.async = false;\n      element.src = url;\n      console.debug(\"Bokeh: injecting script tag for BokehJS library: \", url);\n      document.head.appendChild(element);\n    }\n  };\n\n  function inject_raw_css(css) {\n    const element = document.createElement(\"style\");\n    element.appendChild(document.createTextNode(css));\n    document.body.appendChild(element);\n  }\n\n  const js_urls = [\"https://cdn.bokeh.org/bokeh/release/bokeh-3.4.3.min.js\", \"https://cdn.bokeh.org/bokeh/release/bokeh-gl-3.4.3.min.js\", \"https://cdn.bokeh.org/bokeh/release/bokeh-widgets-3.4.3.min.js\", \"https://cdn.bokeh.org/bokeh/release/bokeh-tables-3.4.3.min.js\", \"https://cdn.bokeh.org/bokeh/release/bokeh-mathjax-3.4.3.min.js\"];\n  const css_urls = [];\n\n  const inline_js = [    function(Bokeh) {\n      Bokeh.set_log_level(\"info\");\n    },\nfunction(Bokeh) {\n    }\n  ];\n\n  function run_inline_js() {\n    if (root.Bokeh !== undefined || force === true) {\n      try {\n            for (let i = 0; i < inline_js.length; i++) {\n      inline_js[i].call(root, root.Bokeh);\n    }\n\n      } catch (error) {throw error;\n      }} else if (Date.now() < root._bokeh_timeout) {\n      setTimeout(run_inline_js, 100);\n    } else if (!root._bokeh_failed_load) {\n      console.log(\"Bokeh: BokehJS failed to load within specified timeout.\");\n      root._bokeh_failed_load = true;\n    } else if (force !== true) {\n      const cell = $(document.getElementById(null)).parents('.cell').data().cell;\n      cell.output_area.append_execute_result(NB_LOAD_WARNING)\n    }\n  }\n\n  if (root._bokeh_is_loading === 0) {\n    console.debug(\"Bokeh: BokehJS loaded, going straight to plotting\");\n    run_inline_js();\n  } else {\n    load_libs(css_urls, js_urls, function() {\n      console.debug(\"Bokeh: BokehJS plotting callback run at\", now());\n      run_inline_js();\n    });\n  }\n}(window));",
      "application/vnd.bokehjs_load.v0+json": ""
     },
     "metadata": {},
     "output_type": "display_data"
    },
    {
     "data": {
      "text/html": [
       "\n",
       "  <div id=\"e10bf92d-5a19-4926-b550-2fa57bf10171\" data-root-id=\"p1001\" style=\"display: contents;\"></div>\n"
      ]
     },
     "metadata": {},
     "output_type": "display_data"
    },
    {
     "data": {
      "application/javascript": "(function(root) {\n  function embed_document(root) {\n  const docs_json = {\"df9d10a3-d1a3-4b37-a5db-3923237b8f55\":{\"version\":\"3.4.3\",\"title\":\"Bokeh Application\",\"roots\":[{\"type\":\"object\",\"name\":\"Figure\",\"id\":\"p1001\",\"attributes\":{\"width\":400,\"height\":400,\"x_range\":{\"type\":\"object\",\"name\":\"DataRange1d\",\"id\":\"p1002\"},\"y_range\":{\"type\":\"object\",\"name\":\"DataRange1d\",\"id\":\"p1003\"},\"x_scale\":{\"type\":\"object\",\"name\":\"LinearScale\",\"id\":\"p1010\"},\"y_scale\":{\"type\":\"object\",\"name\":\"LinearScale\",\"id\":\"p1011\"},\"title\":{\"type\":\"object\",\"name\":\"Title\",\"id\":\"p1008\"},\"renderers\":[{\"type\":\"object\",\"name\":\"GlyphRenderer\",\"id\":\"p1040\",\"attributes\":{\"data_source\":{\"type\":\"object\",\"name\":\"ColumnDataSource\",\"id\":\"p1031\",\"attributes\":{\"selected\":{\"type\":\"object\",\"name\":\"Selection\",\"id\":\"p1032\",\"attributes\":{\"indices\":[],\"line_indices\":[]}},\"selection_policy\":{\"type\":\"object\",\"name\":\"UnionRenderers\",\"id\":\"p1033\"},\"data\":{\"type\":\"map\",\"entries\":[[\"xs\",[0.33190680964358565,-0.541776492011849,0.477800866960587,-0.9657126468380087,-0.8298156012745271,-0.6429080543119533,-0.7674758470477999,0.6267775219571248,0.9248450582495277,-0.8847098271557812,0.8819216786090625,-0.44665400421030155,0.08367847429665223,0.6449734851318517,0.9731186387010705,-0.7176487118714611,-0.24420558365752312,0.2067498393279292,0.47837942574148334,0.14003267886298812,0.15944548340887363,0.7930733079472152,-0.04025553514990988,-0.23835106663902425,-0.4130932728193252,-0.9017099546902567,0.5835300601464873,0.8842159877491604,-0.09133437589783051,-0.24896040759412763,0.7722847212752766,-0.6977471818683383,0.8236499967289821,0.9026698417916129,-0.8679019889919147,-0.9572171595418623,-0.9197728184955307,0.7446597983993347,-0.710221360956539,-0.4874403707364422,0.31831846205040804,0.8628801247810922]],[\"ys\",[-0.9036470019487032,-0.7501183698319551,-0.7954082126149872,-0.20110693432541377,-0.5491044532163293,0.7492317692299688,0.4635131767119158,-0.7661029728313028,0.32132137129061067,-0.34865600834436006,0.176064109310138,-0.8892880955413379,1.0,0.6060472393514725,0.027949284995960527,-0.4917632429675464,-0.8164223388973687,-0.7875216849726984,0.8902496573859586,-0.9731880143123208,0.8916418507906,0.6496719858002418,-0.9663929585627502,-0.9549397136972704,0.9233565023378977,-0.06241903675390512,0.7689782235351645,-0.3973286114703319,0.9667087510107861,0.9576029205804217,-0.6347360712901193,-0.7294901638985155,0.45758352804586166,-0.23485318732686014,0.23039536915092282,0.0839453581052172,0.3430527242795584,-0.5017783809598761,0.6086606065874554,0.7958503164140918,0.9251101128124569,-0.08266940396274938]],[\"_node\",[11,12,13,14,15,16,17,18,19,20,21,22,23,24,25,26,27,28,29,30,31,32,33,34,35,36,37,38,39,40,41,42,43,44,45,46,47,48,49,50,51,52]],[\"bipartite\",[0,0,0,0,0,0,0,0,0,0,0,0,0,0,0,0,0,0,0,0,0,0,0,0,0,0,0,0,0,0,0,0,0,0,0,0,0,0,0,0,0,0]],[\"type\",[\"Agent\",\"Agent\",\"Agent\",\"Agent\",\"Agent\",\"Agent\",\"Agent\",\"Agent\",\"Agent\",\"Agent\",\"Agent\",\"Agent\",\"Agent\",\"Agent\",\"Agent\",\"Agent\",\"Agent\",\"Agent\",\"Agent\",\"Agent\",\"Agent\",\"Agent\",\"Agent\",\"Agent\",\"Agent\",\"Agent\",\"Agent\",\"Agent\",\"Agent\",\"Agent\",\"Agent\",\"Agent\",\"Agent\",\"Agent\",\"Agent\",\"Agent\",\"Agent\",\"Agent\",\"Agent\",\"Agent\",\"Agent\",\"Agent\"]]]}}},\"view\":{\"type\":\"object\",\"name\":\"CDSView\",\"id\":\"p1041\",\"attributes\":{\"filter\":{\"type\":\"object\",\"name\":\"AllIndices\",\"id\":\"p1042\"}}},\"glyph\":{\"type\":\"object\",\"name\":\"Scatter\",\"id\":\"p1037\",\"attributes\":{\"x\":{\"type\":\"field\",\"field\":\"xs\"},\"y\":{\"type\":\"field\",\"field\":\"ys\"},\"size\":{\"type\":\"value\",\"value\":9},\"line_color\":{\"type\":\"value\",\"value\":\"firebrick\"},\"line_alpha\":{\"type\":\"value\",\"value\":0.7},\"fill_color\":{\"type\":\"value\",\"value\":\"firebrick\"},\"fill_alpha\":{\"type\":\"value\",\"value\":0.7},\"hatch_alpha\":{\"type\":\"value\",\"value\":0.7}}},\"nonselection_glyph\":{\"type\":\"object\",\"name\":\"Scatter\",\"id\":\"p1038\",\"attributes\":{\"x\":{\"type\":\"field\",\"field\":\"xs\"},\"y\":{\"type\":\"field\",\"field\":\"ys\"},\"size\":{\"type\":\"value\",\"value\":9},\"line_color\":{\"type\":\"value\",\"value\":\"firebrick\"},\"line_alpha\":{\"type\":\"value\",\"value\":0.1},\"fill_color\":{\"type\":\"value\",\"value\":\"firebrick\"},\"fill_alpha\":{\"type\":\"value\",\"value\":0.1},\"hatch_alpha\":{\"type\":\"value\",\"value\":0.1}}},\"muted_glyph\":{\"type\":\"object\",\"name\":\"Scatter\",\"id\":\"p1039\",\"attributes\":{\"x\":{\"type\":\"field\",\"field\":\"xs\"},\"y\":{\"type\":\"field\",\"field\":\"ys\"},\"size\":{\"type\":\"value\",\"value\":9},\"line_color\":{\"type\":\"value\",\"value\":\"firebrick\"},\"line_alpha\":{\"type\":\"value\",\"value\":0.2},\"fill_color\":{\"type\":\"value\",\"value\":\"firebrick\"},\"fill_alpha\":{\"type\":\"value\",\"value\":0.2},\"hatch_alpha\":{\"type\":\"value\",\"value\":0.2}}}}}],\"toolbar\":{\"type\":\"object\",\"name\":\"Toolbar\",\"id\":\"p1009\",\"attributes\":{\"logo\":null,\"tools\":[{\"type\":\"object\",\"name\":\"BoxZoomTool\",\"id\":\"p1022\",\"attributes\":{\"overlay\":{\"type\":\"object\",\"name\":\"BoxAnnotation\",\"id\":\"p1023\",\"attributes\":{\"syncable\":false,\"level\":\"overlay\",\"visible\":false,\"left\":{\"type\":\"number\",\"value\":\"nan\"},\"right\":{\"type\":\"number\",\"value\":\"nan\"},\"top\":{\"type\":\"number\",\"value\":\"nan\"},\"bottom\":{\"type\":\"number\",\"value\":\"nan\"},\"left_units\":\"canvas\",\"right_units\":\"canvas\",\"top_units\":\"canvas\",\"bottom_units\":\"canvas\",\"line_color\":\"black\",\"line_alpha\":1.0,\"line_width\":2,\"line_dash\":[4,4],\"fill_color\":\"lightgrey\",\"fill_alpha\":0.5}}}},{\"type\":\"object\",\"name\":\"ResetTool\",\"id\":\"p1028\"},{\"type\":\"object\",\"name\":\"WheelZoomTool\",\"id\":\"p1029\",\"attributes\":{\"renderers\":\"auto\"}},{\"type\":\"object\",\"name\":\"PanTool\",\"id\":\"p1030\"},{\"type\":\"object\",\"name\":\"HoverTool\",\"id\":\"p1043\",\"attributes\":{\"renderers\":[{\"id\":\"p1040\"}],\"tooltips\":[[\"type\",\"node lv0\"],[\"node\",\"@_node\"],[\"type\",\"@type\"]],\"formatters\":{\"type\":\"map\",\"entries\":[[\"type\",\"printf\"],[\"node\",\"printf\"]]},\"attachment\":\"vertical\"}}]}},\"left\":[{\"type\":\"object\",\"name\":\"LinearAxis\",\"id\":\"p1017\",\"attributes\":{\"visible\":false,\"ticker\":{\"type\":\"object\",\"name\":\"BasicTicker\",\"id\":\"p1018\",\"attributes\":{\"mantissas\":[1,2,5]}},\"formatter\":{\"type\":\"object\",\"name\":\"BasicTickFormatter\",\"id\":\"p1019\"},\"major_label_policy\":{\"type\":\"object\",\"name\":\"AllLabels\",\"id\":\"p1020\"}}}],\"below\":[{\"type\":\"object\",\"name\":\"LinearAxis\",\"id\":\"p1012\",\"attributes\":{\"visible\":false,\"ticker\":{\"type\":\"object\",\"name\":\"BasicTicker\",\"id\":\"p1013\",\"attributes\":{\"mantissas\":[1,2,5]}},\"formatter\":{\"type\":\"object\",\"name\":\"BasicTickFormatter\",\"id\":\"p1014\"},\"major_label_policy\":{\"type\":\"object\",\"name\":\"AllLabels\",\"id\":\"p1015\"}}}],\"center\":[{\"type\":\"object\",\"name\":\"Grid\",\"id\":\"p1016\",\"attributes\":{\"axis\":{\"id\":\"p1012\"},\"grid_line_color\":null}},{\"type\":\"object\",\"name\":\"Grid\",\"id\":\"p1021\",\"attributes\":{\"dimension\":1,\"axis\":{\"id\":\"p1017\"},\"grid_line_color\":null}}]}}]}};\n  const render_items = [{\"docid\":\"df9d10a3-d1a3-4b37-a5db-3923237b8f55\",\"roots\":{\"p1001\":\"e10bf92d-5a19-4926-b550-2fa57bf10171\"},\"root_ids\":[\"p1001\"],\"notebook_comms_target\":\"p1044\"}];\n  void root.Bokeh.embed.embed_items_notebook(docs_json, render_items);\n  }\n  if (root.Bokeh !== undefined) {\n    embed_document(root);\n  } else {\n    let attempts = 0;\n    const timer = setInterval(function(root) {\n      if (root.Bokeh !== undefined) {\n        clearInterval(timer);\n        embed_document(root);\n      } else {\n        attempts++;\n        if (attempts > 100) {\n          clearInterval(timer);\n          console.log(\"Bokeh: ERROR: Unable to run BokehJS code because BokehJS library is missing\");\n        }\n      }\n    }, 10, root)\n  }\n})(window);",
      "application/vnd.bokehjs_exec.v0+json": ""
     },
     "metadata": {
      "application/vnd.bokehjs_exec.v0+json": {
       "id": "p1001"
      }
     },
     "output_type": "display_data"
    }
   ],
   "source": [
    "inspector = p2n.NetworkInspector(model=model)\n",
    "inspector.plot_bipartite_network()"
   ]
  },
  {
   "cell_type": "markdown",
   "metadata": {},
   "source": [
    "Let's have look at the attributes of the first agent.\n",
    "We can see that each cell of the first row of the given data was translated in an agent attribute with the name of the corresponding column.\n",
    "That was done for each row of the given data."
   ]
  },
  {
   "cell_type": "code",
   "execution_count": 12,
   "metadata": {},
   "outputs": [
    {
     "data": {
      "text/plain": [
       "{'_var_ignore': [],\n",
       " 'id': 11,\n",
       " 'type': 'Agent',\n",
       " 'log': {},\n",
       " 'model': Model,\n",
       " 'p': {},\n",
       " 'status': 'pupil',\n",
       " 'gender': 'm',\n",
       " 'grade': 3.0,\n",
       " 'hours': 5,\n",
       " 'friend_group': 14}"
      ]
     },
     "execution_count": 12,
     "metadata": {},
     "output_type": "execute_result"
    }
   ],
   "source": [
    "vars(model.agents[0])"
   ]
  },
  {
   "cell_type": "markdown",
   "metadata": {},
   "source": [
    "If we do not insert an agent class via the parameter `agent_class`, the default agent class of Pop2net is used to create the agent instances, but we could also use our own agent class (that inherits from `p2n.Agent`):"
   ]
  },
  {
   "cell_type": "code",
   "execution_count": 13,
   "metadata": {},
   "outputs": [
    {
     "data": {
      "text/plain": [
       "AgentList (42 objects)"
      ]
     },
     "execution_count": 13,
     "metadata": {},
     "output_type": "execute_result"
    }
   ],
   "source": [
    "class MyAgent(p2n.Agent):\n",
    "    pass\n",
    "\n",
    "\n",
    "model = p2n.Model()\n",
    "creator = p2n.Creator(model)\n",
    "agents = creator.create_agents(\n",
    "    df=df_school,\n",
    "    agent_class=MyAgent,\n",
    ")\n",
    "agents"
   ]
  },
  {
   "cell_type": "code",
   "execution_count": 14,
   "metadata": {},
   "outputs": [
    {
     "data": {
      "text/plain": [
       "__main__.MyAgent"
      ]
     },
     "execution_count": 14,
     "metadata": {},
     "output_type": "execute_result"
    }
   ],
   "source": [
    "type(agents[0])"
   ]
  },
  {
   "cell_type": "markdown",
   "metadata": {},
   "source": [
    "For now, this is enough information on how to create agents based on micro-level data using Pop2net.\n",
    "\n",
    "<div class=\"alert alert-block alert-info\">\n",
    "<b>Tip:</b> More useful options for the generation of agents based on micro-level data can be found in chapter >>>From survey participants to agents<<< (not online yet).\n",
    "</div>"
   ]
  },
  {
   "cell_type": "markdown",
   "metadata": {},
   "source": [
    "## The LocationDesigner\n",
    "\n",
    "To generate locations using the `Creator` class, we have to use it in combination with the `LocationDesigner` class.\n",
    "The `LocationDesigner` can be considered as an interface to controll the automatic generation of locations and assignment of agents to the locations by the `creator`.\n",
    "\n",
    "The `LocationDesigner` class has various attributes and methods which can be customized by the user to specify which kind of locations are created and how the agents are assigned to which location instances.\n",
    "The attributes and methods of the `LocationDesigner` are *read* by the `Creator` and then translated into the bipartite network of agents and locations.\n",
    "Here is an overview of the attributes and methods of the `LocationDesigner` class:"
   ]
  },
  {
   "cell_type": "code",
   "execution_count": null,
   "metadata": {},
   "outputs": [
    {
     "ename": "TypeError",
     "evalue": "unsupported operand type(s) for |: 'type' and 'NoneType'",
     "output_type": "error",
     "traceback": [
      "\u001b[0;31m---------------------------------------------------------------------------\u001b[0m",
      "\u001b[0;31mTypeError\u001b[0m                                 Traceback (most recent call last)",
      "Cell \u001b[0;32mIn[15], line 1\u001b[0m\n\u001b[0;32m----> 1\u001b[0m \u001b[38;5;28;01mclass\u001b[39;00m \u001b[38;5;21;01mMyLocation\u001b[39;00m(p2n\u001b[38;5;241m.\u001b[39mLocationDesigner):\n\u001b[1;32m      2\u001b[0m     n_agents: \u001b[38;5;28mint\u001b[39m \u001b[38;5;241m|\u001b[39m \u001b[38;5;28;01mNone\u001b[39;00m \u001b[38;5;241m=\u001b[39m \u001b[38;5;28;01mNone\u001b[39;00m\n\u001b[1;32m      3\u001b[0m     overcrowding: \u001b[38;5;28mbool\u001b[39m \u001b[38;5;241m|\u001b[39m \u001b[38;5;28;01mNone\u001b[39;00m \u001b[38;5;241m=\u001b[39m \u001b[38;5;28;01mNone\u001b[39;00m\n",
      "Cell \u001b[0;32mIn[15], line 2\u001b[0m, in \u001b[0;36mMyLocation\u001b[0;34m()\u001b[0m\n\u001b[1;32m      1\u001b[0m \u001b[38;5;28;01mclass\u001b[39;00m \u001b[38;5;21;01mMyLocation\u001b[39;00m(p2n\u001b[38;5;241m.\u001b[39mLocationDesigner):\n\u001b[0;32m----> 2\u001b[0m     n_agents: \u001b[38;5;28;43mint\u001b[39;49m\u001b[43m \u001b[49m\u001b[38;5;241;43m|\u001b[39;49m\u001b[43m \u001b[49m\u001b[38;5;28;43;01mNone\u001b[39;49;00m \u001b[38;5;241m=\u001b[39m \u001b[38;5;28;01mNone\u001b[39;00m\n\u001b[1;32m      3\u001b[0m     overcrowding: \u001b[38;5;28mbool\u001b[39m \u001b[38;5;241m|\u001b[39m \u001b[38;5;28;01mNone\u001b[39;00m \u001b[38;5;241m=\u001b[39m \u001b[38;5;28;01mNone\u001b[39;00m\n\u001b[1;32m      4\u001b[0m     only_exact_n_agents: \u001b[38;5;28mbool\u001b[39m \u001b[38;5;241m=\u001b[39m \u001b[38;5;28;01mFalse\u001b[39;00m\n",
      "\u001b[0;31mTypeError\u001b[0m: unsupported operand type(s) for |: 'type' and 'NoneType'"
     ]
    }
   ],
   "source": [
    "from __future__ import annotations\n",
    "\n",
    "class MyLocation(p2n.LocationDesigner):\n",
    "    n_agents: int | None = None\n",
    "    overcrowding: bool | None = None\n",
    "    only_exact_n_agents: bool = False\n",
    "    n_locations: int | None = None\n",
    "    recycle: bool = True\n",
    "\n",
    "    def filter(self, agent: p2n.Agent) -> bool:\n",
    "        \"\"\"Assigns only agents with certain attributes to this location.\"\"\"\n",
    "        return True\n",
    "\n",
    "    def split(self, agent: p2n.Agent) -> str | float | str | list | None:\n",
    "        \"\"\"Creates seperated locations for each value of an agent-attribute.\"\"\"\n",
    "        return None\n",
    "\n",
    "    def bridge(self, agent: p2n.Agent) -> float | str | list | None:\n",
    "        \"\"\"Create locations with one agent for each unique value returned.\"\"\"\n",
    "        return None\n",
    "\n",
    "    def stick_together(self, agent: p2n.Agent) -> str | float:\n",
    "        \"\"\"Ensures that agents with a shared value on an attribute are assigned to the same\n",
    "        location instance.\"\"\"\n",
    "        return agent.id\n",
    "\n",
    "    def weight(self, agent: p2n.Agent) -> float:\n",
    "        \"\"\"Defines the edge weight between the agent and the location instance.\"\"\"\n",
    "        return 1\n",
    "\n",
    "    def nest(self) -> str | None:\n",
    "        \"\"\"Ensures that the agents assigned to the same instance of this location class\n",
    "        are also assigned to the same instance of the returned location class.\"\"\"\n",
    "        return None\n",
    "\n",
    "    def melt(self) -> list[p2n.Location] | tuple[p2n.Location]:\n",
    "        \"\"\"Merges the agents assigned to the instances of the returned location classes\n",
    "        into one instance of this location class.\"\"\"\n",
    "        return []\n",
    "\n",
    "    def project_weights(self, agent1: p2n.Agent, agent2: p2n.Agent) -> float:\n",
    "        \"\"\"Calculates the edge weight between two agents that are assigned to the same location\n",
    "        instance.\"\"\"\n",
    "        return min([self.get_weight(agent1), self.get_weight(agent2)])"
   ]
  },
  {
   "cell_type": "markdown",
   "metadata": {},
   "source": [
    "## Generating locations (and assigning agents)"
   ]
  },
  {
   "cell_type": "markdown",
   "metadata": {},
   "source": [
    "We start by just using the default class of `LocationDesigner` without defining any further attributes or methods.\n",
    "Every location class defined by the user must inherit - directly or indirectly - from `p2n.LocationDesigner`.\n",
    "We call our first location `ClassRoom`."
   ]
  },
  {
   "cell_type": "code",
   "execution_count": null,
   "metadata": {},
   "outputs": [],
   "source": [
    "class ClassRoom(p2n.LocationDesigner):\n",
    "    pass"
   ]
  },
  {
   "cell_type": "markdown",
   "metadata": {},
   "source": [
    "Now we use the `creator.create_locations()` to create the location instances and - and this is important - to assign the agents, which are already in the model, to the location instances:"
   ]
  },
  {
   "cell_type": "code",
   "execution_count": null,
   "metadata": {},
   "outputs": [],
   "source": [
    "creator.create_locations(location_designers=[ClassRoom])"
   ]
  },
  {
   "cell_type": "code",
   "execution_count": null,
   "metadata": {},
   "outputs": [],
   "source": [
    "model.locations"
   ]
  },
  {
   "cell_type": "markdown",
   "metadata": {},
   "source": [
    "`creator.create_locations()` has not only created the location instances with respect to the given agent population, but has also assigned the agents to the location according to the rules specified by the location classes.\n",
    "We can check this by looking at the bipartite network:"
   ]
  },
  {
   "cell_type": "code",
   "execution_count": null,
   "metadata": {},
   "outputs": [],
   "source": [
    "inspector = p2n.NetworkInspector(model)\n",
    "inspector.plot_bipartite_network()"
   ]
  },
  {
   "cell_type": "markdown",
   "metadata": {},
   "source": [
    "The node in the center of the graph is the location.\n",
    "All other nodes are agents.\n",
    "This means that if we use the default location class without further customization, only one location instance is created to which all agents are connected.\n",
    "Since each agent is assigned to this one location instance, the result is a fully connected agent graph:"
   ]
  },
  {
   "cell_type": "code",
   "execution_count": null,
   "metadata": {},
   "outputs": [],
   "source": [
    "inspector.plot_agent_network()"
   ]
  },
  {
   "cell_type": "markdown",
   "metadata": {},
   "source": [
    "## Generating agents and locations in one step"
   ]
  },
  {
   "cell_type": "markdown",
   "metadata": {},
   "source": [
    "Before diving into all the details of the definition of location classes, let's simplify the process of generating agents and locations.\n",
    "The method `create()` combines `create_agents()` and `create_locations()` into one simple method.\n",
    "However, note that `create()` always creates the agents based on a given dataset.\n",
    "If you already have a population of agents, use `create_locations()` instead. "
   ]
  },
  {
   "cell_type": "code",
   "execution_count": null,
   "metadata": {},
   "outputs": [],
   "source": [
    "model = p2n.Model()\n",
    "creator = p2n.Creator(model)\n",
    "inspector = p2n.NetworkInspector(model)\n",
    "\n",
    "# Let the Creator create agents and locations\n",
    "creator.create(\n",
    "    df=df_school,\n",
    "    location_designers=[ClassRoom],\n",
    ")"
   ]
  },
  {
   "cell_type": "markdown",
   "metadata": {},
   "source": [
    "The method `create()` also has the convenient argument `clear`.\n",
    "Set this to `True` if you want to remove all existing agents and locations from the model before adding new ones to the model.\n",
    "This way you do not have to create a new instances of `Model`, `Creator` and `Inspector` if you want to create a completely new network.\n",
    "In the following, we first run `create()` with `clear` explicitly set to `False` and then with `clear` set to `True`."
   ]
  },
  {
   "cell_type": "markdown",
   "metadata": {},
   "source": [
    "If `clear` is `False` (which is the default value) the new agents and locations are added to the model without removing the existing ones:"
   ]
  },
  {
   "cell_type": "code",
   "execution_count": null,
   "metadata": {},
   "outputs": [],
   "source": [
    "creator.create(\n",
    "    df=df_school,\n",
    "    location_designers=[ClassRoom],\n",
    "    clear=False,\n",
    ")\n",
    "print(model.agents, model.locations)"
   ]
  },
  {
   "cell_type": "markdown",
   "metadata": {},
   "source": [
    "If `clear` is `True` only the new agents and locations remain in the model:"
   ]
  },
  {
   "cell_type": "code",
   "execution_count": null,
   "metadata": {},
   "outputs": [],
   "source": [
    "creator.create(\n",
    "    df=df_school,\n",
    "    location_designers=[ClassRoom],\n",
    "    clear=True,\n",
    ")\n",
    "print(model.agents, model.locations)"
   ]
  },
  {
   "cell_type": "markdown",
   "metadata": {},
   "source": [
    "The keyword `clear` is also available in `create_agents()` and `create_locations()`, where it removes either all existing agents or all existing locations from the model."
   ]
  },
  {
   "cell_type": "markdown",
   "metadata": {},
   "source": [
    "## Setting the location size\n",
    "\n",
    "In the next step, we specify the number of people in one classroom.\n",
    "In this example, we assume tiny classrooms of four agents.\n",
    "To set the number of agents per location, we need to set the class attribute `n_agents` to the desired value."
   ]
  },
  {
   "cell_type": "code",
   "execution_count": null,
   "metadata": {},
   "outputs": [],
   "source": [
    "class ClassRoom(p2n.LocationDesigner):\n",
    "    n_agents = 4"
   ]
  },
  {
   "cell_type": "markdown",
   "metadata": {},
   "source": [
    "Let's use the modified `ClassRoom` to create the network:"
   ]
  },
  {
   "cell_type": "code",
   "execution_count": null,
   "metadata": {},
   "outputs": [],
   "source": [
    "model = p2n.Model()\n",
    "creator = p2n.Creator(model)\n",
    "inspector = p2n.NetworkInspector(model)\n",
    "\n",
    "creator.create(df=df_school, location_designers=[ClassRoom])\n",
    "\n",
    "inspector.plot_networks()"
   ]
  },
  {
   "cell_type": "markdown",
   "metadata": {},
   "source": [
    "The network diagrams above now show multiple clusters.\n",
    "Each cluster represents one classroom.\n",
    "If we set a specific size for a location, the Creator creates as many location instances with that size as needed.\n",
    "The agents are then assigned randomly to one of these location instances.\n",
    "As you can see, some classrooms have have more than four members because the number of agents assigned to classrooms cannot be divided exactly by the desired number of four.\n",
    "\n",
    "The `overcrowding` attribute determines how the number of required locations is rounded.\n",
    "By default, `overcrowding` is set to `None` which means that the number of required locations is either rounded up or rounded down using `round`.\n",
    "Below we change `overcrowding` to `False` to create one more location instance to avoid *overcrowding* the classrooms."
   ]
  },
  {
   "cell_type": "code",
   "execution_count": null,
   "metadata": {},
   "outputs": [],
   "source": [
    "class ClassRoom(p2n.LocationDesigner):\n",
    "    n_agents = 4\n",
    "    overcrowding = False\n",
    "\n",
    "\n",
    "creator.create(df=df_school, location_designers=[ClassRoom], clear=True)\n",
    "\n",
    "inspector.plot_bipartite_network()"
   ]
  },
  {
   "cell_type": "markdown",
   "metadata": {},
   "source": [
    "The plot above shows that there is now is no class room that has more than 4 members.\n",
    "However, now there is a class room which only has two members.\n",
    "We could also set `overcrowding` to `True` to always round down the number of necessary location instances.\n",
    "\n",
    "If we do not want locations that are either overcrowded or undercrowded but only locations that have exactly the size we defined, we could use the attribute `only_exact_n_agents` to `True`:"
   ]
  },
  {
   "cell_type": "code",
   "execution_count": null,
   "metadata": {},
   "outputs": [],
   "source": [
    "class ClassRoom(p2n.LocationDesigner):\n",
    "    n_agents = 4\n",
    "    only_exact_n_agents = True\n",
    "\n",
    "\n",
    "creator.create(df=df_school, location_designers=[ClassRoom], clear=True)\n",
    "\n",
    "inspector.plot_bipartite_network()"
   ]
  },
  {
   "cell_type": "markdown",
   "metadata": {},
   "source": [
    "As a consequence, two agents are not assigned to any location."
   ]
  },
  {
   "cell_type": "markdown",
   "metadata": {},
   "source": [
    "## Defining the number of locations"
   ]
  },
  {
   "cell_type": "markdown",
   "metadata": {},
   "source": [
    "The attribute `n_agents` implicitly changes the number of the created locations.\n",
    "Using the attribute `n_locations`, you can also set the number of locations explicitly:"
   ]
  },
  {
   "cell_type": "code",
   "execution_count": null,
   "metadata": {},
   "outputs": [],
   "source": [
    "class ClassRoom(p2n.LocationDesigner):\n",
    "    n_agents = 4\n",
    "    n_locations = 4\n",
    "\n",
    "\n",
    "creator.create(df=df_school, location_designers=[ClassRoom], clear=True)\n",
    "\n",
    "inspector.plot_bipartite_network()"
   ]
  },
  {
   "cell_type": "markdown",
   "metadata": {},
   "source": [
    "While in the example above four classrooms with the defined size of `n_agents = 4` are created, in the example below `n_agents` is not set explicitly:"
   ]
  },
  {
   "cell_type": "code",
   "execution_count": null,
   "metadata": {},
   "outputs": [],
   "source": [
    "class ClassRoom(p2n.LocationDesigner):\n",
    "    n_locations = 4\n",
    "\n",
    "\n",
    "creator.create(df=df_school, location_designers=[ClassRoom], clear=True)\n",
    "\n",
    "inspector.plot_bipartite_network()"
   ]
  },
  {
   "cell_type": "markdown",
   "metadata": {},
   "source": [
    "## Specifying location visitors\n",
    "\n",
    "The classrooms above are made of all agents.\n",
    "But in many cases we want specific locations to be exclusively accessible to certain agents.\n",
    "For this scenario the method `filter()` exists.\n",
    "If this method returns `True`, an agent gets assigned to an instance of this location class.\n",
    "The most common way to use this method is to specify a condition that requires a certain agent attribute to contain a certain value.\n",
    "\n",
    "In this example we want classrooms to be only accessible for pupils."
   ]
  },
  {
   "cell_type": "code",
   "execution_count": null,
   "metadata": {},
   "outputs": [],
   "source": [
    "class ClassRoom(p2n.LocationDesigner):\n",
    "    n_agents = 4\n",
    "\n",
    "    def filter(self, agent):\n",
    "        return agent.status == \"pupil\"\n",
    "\n",
    "\n",
    "creator.create(df=df_school, location_designers=[ClassRoom], clear=True)\n",
    "\n",
    "inspector.plot_bipartite_network(agent_color=\"status\")"
   ]
  },
  {
   "cell_type": "markdown",
   "metadata": {},
   "source": [
    "Now classrooms consist only of pupils, while all other agents do not belong to any location."
   ]
  },
  {
   "cell_type": "markdown",
   "metadata": {},
   "source": [
    "## Building separated locations"
   ]
  },
  {
   "cell_type": "markdown",
   "metadata": {},
   "source": [
    "Currently, classrooms are not separated by grade.\n",
    "To seperate agents by grade, we could define one location class for each grade and use `filter()` to assign only agents with a specific grade value to a specific location.\n",
    "\n",
    "A more convenient way to do it is to use the method `split()`.\n",
    "For each agent, the method `split()` returns one value.\n",
    "For each unique value, seperated location instances are created.\n",
    "In this case, the method `split()` returns the attribute `grade` for each agents.\n",
    "Thus, the Creator builds seperate classroom instances for each unique value of the agent attribute `grade`."
   ]
  },
  {
   "cell_type": "code",
   "execution_count": null,
   "metadata": {},
   "outputs": [],
   "source": [
    "class ClassRoom(p2n.LocationDesigner):\n",
    "    n_agents = 4\n",
    "\n",
    "    def filter(self, agent):\n",
    "        return agent.status == \"pupil\"\n",
    "\n",
    "    def split(self, agent):\n",
    "        return agent.grade\n",
    "\n",
    "\n",
    "creator.create(df=df_school, location_designers=[ClassRoom], clear=True)\n",
    "\n",
    "inspector.plot_networks(agent_color=\"grade\")"
   ]
  },
  {
   "cell_type": "markdown",
   "metadata": {},
   "source": [
    "## Keeping agents together\n",
    "\n",
    "In the following plot the nodes are colored by their attribute `friend_group`.\n",
    "It shows that the members of friend groups are distributed over different classrooms."
   ]
  },
  {
   "cell_type": "code",
   "execution_count": null,
   "metadata": {},
   "outputs": [],
   "source": [
    "class ClassRoom(p2n.LocationDesigner):\n",
    "    n_agents = 4\n",
    "\n",
    "    def filter(self, agent):\n",
    "        return agent.status == \"pupil\"\n",
    "\n",
    "    def split(self, agent):\n",
    "        return agent.grade\n",
    "\n",
    "\n",
    "creator.create(df=df_school, location_designers=[ClassRoom], clear=True)\n",
    "\n",
    "inspector.plot_networks(agent_color=\"friend_group\")"
   ]
  },
  {
   "cell_type": "markdown",
   "metadata": {},
   "source": [
    "Although this is a very realistic situation, in this example, we want that all friend group members are always in the same class.\n",
    "To implement that, we use the location method `stick_together()`:\n",
    "For each agent, the method `stick_together()` returns a specific value.\n",
    "Agents with the same return value are sticked together."
   ]
  },
  {
   "cell_type": "code",
   "execution_count": null,
   "metadata": {},
   "outputs": [],
   "source": [
    "class ClassRoom(p2n.LocationDesigner):\n",
    "    n_agents = 4\n",
    "\n",
    "    def filter(self, agent):\n",
    "        return agent.status == \"pupil\"\n",
    "\n",
    "    def split(self, agent):\n",
    "        return agent.grade\n",
    "\n",
    "    def stick_together(self, agent):\n",
    "        return agent.friend_group\n",
    "\n",
    "\n",
    "creator.create(df=df_school, location_designers=[ClassRoom])\n",
    "\n",
    "inspector.plot_networks(agent_color=\"friend_group\")"
   ]
  },
  {
   "cell_type": "markdown",
   "metadata": {},
   "source": [
    "## Edge weights\n",
    "\n",
    "Until now, all edges between nodes have a weight of `1`.\n",
    "The location method `weight()` can be used to set different weights.\n",
    "In the following, we set the weight of all edges generated by a classroom to `5`.\n",
    "This number could, for instance, represent that agents are together in classrooms for five hours."
   ]
  },
  {
   "cell_type": "code",
   "execution_count": null,
   "metadata": {},
   "outputs": [],
   "source": [
    "class ClassRoom(p2n.LocationDesigner):\n",
    "    n_agents = 4\n",
    "\n",
    "    def filter(self, agent):\n",
    "        return agent.status == \"pupil\"\n",
    "\n",
    "    def split(self, agent):\n",
    "        return agent.grade\n",
    "\n",
    "    def stick_together(self, agent):\n",
    "        return agent.friend_group\n",
    "\n",
    "    def weight(self, agent):\n",
    "        return 5\n",
    "\n",
    "\n",
    "agents, locations = creator.create(df=df_school, location_designers=[ClassRoom], clear=True)\n",
    "\n",
    "inspector.plot_networks(agent_color=\"grade\")"
   ]
  },
  {
   "cell_type": "markdown",
   "metadata": {},
   "source": [
    "To implement individual weights between an agent and a location, we could also let `weight()` return an agent attribute. \n",
    "In this case we use the agent attribute `agent.hours`:"
   ]
  },
  {
   "cell_type": "code",
   "execution_count": null,
   "metadata": {},
   "outputs": [],
   "source": [
    "class ClassRoom(p2n.LocationDesigner):\n",
    "    n_agents = 4\n",
    "\n",
    "    def filter(self, agent):\n",
    "        return agent.status == \"pupil\"\n",
    "\n",
    "    def split(self, agent):\n",
    "        return agent.grade\n",
    "\n",
    "    def stick_together(self, agent):\n",
    "        return agent.friend_group\n",
    "\n",
    "    def weight(self, agent):\n",
    "        return agent.hours\n",
    "\n",
    "\n",
    "creator.create(df=df_school, location_designers=[ClassRoom], clear=True)\n",
    "\n",
    "inspector.plot_networks(agent_color=\"grade\")"
   ]
  },
  {
   "cell_type": "markdown",
   "metadata": {},
   "source": [
    "As the value returned by `location.weight()` refers to the weight between the agent and the location, all the weights between the agents and the locations must be somehow combined when determining the weight between agents (aka graph projection).\n",
    "The location method `project_weights()` defines how those weights are combined.\n",
    "By default, `project_weights()` returns the smallest weight of the two to be combined.\n",
    "The code cell below shows how `project_weights()` combines the two weights by default.\n",
    "In this example, we keep this way of combining the weights, but this method could be easily rewritten."
   ]
  },
  {
   "cell_type": "code",
   "execution_count": null,
   "metadata": {},
   "outputs": [],
   "source": [
    "class ClassRoom(p2n.LocationDesigner):\n",
    "    n_agents = 4\n",
    "\n",
    "    def filter(self, agent):\n",
    "        return agent.status == \"pupil\"\n",
    "\n",
    "    def split(self, agent):\n",
    "        return agent.grade\n",
    "\n",
    "    def stick_together(self, agent):\n",
    "        return agent.friend_group\n",
    "\n",
    "    def weight(self, agent):\n",
    "        return agent.hours\n",
    "\n",
    "    def project_weights(self, agent1, agent2) -> float:\n",
    "        return min([self.get_weight(agent1), self.get_weight(agent2)])"
   ]
  },
  {
   "cell_type": "markdown",
   "metadata": {},
   "source": [
    "Note that we use the method `location.get_weight()` to access the weight between the agent and the location."
   ]
  },
  {
   "cell_type": "markdown",
   "metadata": {},
   "source": [
    "## Bringing together different agents\n",
    "\n",
    "So far, we are able to connect agents who share a certain attribut value.\n",
    "But what if we want to explicitly connect agents who have different values on a certain attribute?\n",
    "One solution could be to simply give those agents we want to be in the same location the same value on a certain attribute and then define a location class that brings together these agents. Besides this, Pop2net offers two more convinient solutions."
   ]
  },
  {
   "cell_type": "markdown",
   "metadata": {},
   "source": [
    "### The quick way: bridge()\n",
    "\n",
    "With the `bridge()` method, we can quickly connect agents that have different values on an attribute.\n",
    "The `bridge()` method instructs the creator to create location instances that only connect agents with different values for an attribute (or more precisely: location instances that connect agents for which `bridge()` has returned different values).\n",
    "That sounds complicated.\n",
    "Let's look at an example.\n",
    "\n",
    "Let's define a location `PupilsAndTeachers` that connects teachers and pupils.\n",
    "Since pupils and teachers differ in their `agent.status` attribute, we can use this attribute to bring them together.\n",
    "To make it clearer, we first create only one location by setting `n_locations` to `1`:"
   ]
  },
  {
   "cell_type": "code",
   "execution_count": null,
   "metadata": {},
   "outputs": [],
   "source": [
    "class PupilsAndTeachers(p2n.LocationDesigner):\n",
    "    n_locations = 1\n",
    "\n",
    "    def bridge(self, agent):\n",
    "        return agent.status\n",
    "\n",
    "\n",
    "creator.create(df=df_school, location_designers=[PupilsAndTeachers], clear=True)\n",
    "\n",
    "inspector.plot_networks(agent_color=\"status\")"
   ]
  },
  {
   "cell_type": "markdown",
   "metadata": {},
   "source": [
    "We can see that there is one location instance of type `PupilsAndTeachers` that connects three agents that have different values on `agent.status`, including social workers.\n",
    "As we only want teachers and pupils in that location, we add a filter statement:"
   ]
  },
  {
   "cell_type": "code",
   "execution_count": null,
   "metadata": {},
   "outputs": [],
   "source": [
    "class PupilsAndTeachers(p2n.LocationDesigner):\n",
    "    n_locations = 1\n",
    "\n",
    "    def bridge(self, agent):\n",
    "        return agent.status\n",
    "\n",
    "    def filter(self, agent):\n",
    "        return agent.status in [\"teacher\", \"pupil\"]\n",
    "\n",
    "\n",
    "creator.create(df=df_school, location_designers=[PupilsAndTeachers], clear=True)\n",
    "\n",
    "inspector.plot_networks(agent_color=\"status\")"
   ]
  },
  {
   "cell_type": "markdown",
   "metadata": {},
   "source": [
    "As we do not only want to have one of that location, let's remove the specifiction of `n_locations`:"
   ]
  },
  {
   "cell_type": "code",
   "execution_count": null,
   "metadata": {},
   "outputs": [],
   "source": [
    "class PupilsAndTeachers(p2n.LocationDesigner):\n",
    "    def filter(self, agent):\n",
    "        return agent.status in [\"teacher\", \"pupil\"]\n",
    "\n",
    "    def bridge(self, agent):\n",
    "        return agent.status\n",
    "\n",
    "\n",
    "creator.create(df=df_school, location_designers=[PupilsAndTeachers], clear=True)\n",
    "\n",
    "inspector.plot_networks(agent_color=\"status\")"
   ]
  },
  {
   "cell_type": "markdown",
   "metadata": {},
   "source": [
    "What happened?\n",
    "If you take a closer look, you can see that there is still one location for one edge beteween one teacher and one pupil.\n",
    "However, teachers are assigned to more than one location of this type.\n",
    "This is because the LocationDesigner attribute `recycle` is set to `True` by default.\n",
    "If `recycle` is `True` the creator builds as many locations as needed to assign every agent at least to one instance of the corresponding location type.\n",
    "That means that the agents with the most frequent value returned by `bridge()` determine the number of the location instances to build.\n",
    "Therefore it can be that agents from the other groups are assigned multiple times so that everybody has a partner.\n",
    "\n",
    "To turn this behavior off, set `recycle` to `False`.\n",
    "As a result, nobody will be assigned multiple times and the agents with the least frequent value determine the number of locations of this type.\n",
    "In the following, we set `recycle` ot `False` and thus only get 8 location instances of this type, as there are only 8 teachers."
   ]
  },
  {
   "cell_type": "code",
   "execution_count": null,
   "metadata": {},
   "outputs": [],
   "source": [
    "class PupilsAndTeachers(p2n.LocationDesigner):\n",
    "    recycle = False\n",
    "\n",
    "    def filter(self, agent):\n",
    "        return agent.status in [\"teacher\", \"pupil\"]\n",
    "\n",
    "    def bridge(self, agent):\n",
    "        return agent.status\n",
    "\n",
    "\n",
    "creator.create(df=df_school, location_designers=[PupilsAndTeachers], clear=True)\n",
    "\n",
    "inspector.plot_networks(agent_color=\"status\")"
   ]
  },
  {
   "cell_type": "markdown",
   "metadata": {},
   "source": [
    "### The detailed way: melt()\n",
    "\n",
    "The method `bridge()` is a quick way to bring together different agents.\n",
    "However, it is limited.\n",
    "To have more controll over the composition of agents that are assigned to a location, we have to *melt* different locations together.\n",
    "To do this, we have to define at least three location classes:  Two or more locations that are the components that get melted into one location and one location that melts those components together.\n",
    "\n",
    "Assume we want to create classrooms that consist of one teacher and four pupils.\n",
    "To create such a location, we first define a `MeltLocationDesigner` (`TeachersInClassRoom`) that consists of only one teacher.\n",
    "Then we define a `MeltLocationDesignerDesigner` (`PupilsInClassRoom`) that consists of four pupils.\n",
    "Finally, we define a location (`ClassRoom`) that uses the method `melt()` to melt the two previously defined locations into one location.\n",
    "The method `melt()` must return a tuple or list of at least two location classes that shall be melted into one."
   ]
  },
  {
   "cell_type": "code",
   "execution_count": null,
   "metadata": {},
   "outputs": [],
   "source": [
    "# a location for teachers\n",
    "class TeachersInClassRoom(p2n.MeltLocationDesigner):\n",
    "    n_agents = 1\n",
    "\n",
    "    def filter(self, agent):\n",
    "        return agent.status == \"teacher\"\n",
    "\n",
    "\n",
    "# a location for pupils\n",
    "class PupilsInClassRoom(p2n.MeltLocationDesigner):\n",
    "    n_agents = 4\n",
    "\n",
    "    def filter(self, agent):\n",
    "        return agent.status == \"pupil\"\n",
    "\n",
    "\n",
    "# a location for teachers and pupils\n",
    "class ClassRoom(p2n.LocationDesigner):\n",
    "    def melt(self):\n",
    "        return TeachersInClassRoom, PupilsInClassRoom"
   ]
  },
  {
   "cell_type": "code",
   "execution_count": null,
   "metadata": {},
   "outputs": [],
   "source": [
    "creator.create(df=df_school, location_designers=[ClassRoom], clear=True)\n",
    "inspector.plot_networks(agent_color=\"status\")"
   ]
  },
  {
   "cell_type": "markdown",
   "metadata": {},
   "source": [
    "Now we bring back all other settings we made so far:"
   ]
  },
  {
   "cell_type": "code",
   "execution_count": null,
   "metadata": {},
   "outputs": [],
   "source": [
    "class TeachersInClassRoom(p2n.MeltLocationDesigner):\n",
    "    n_agents = 1\n",
    "\n",
    "    def filter(self, agent):\n",
    "        return agent.status == \"teacher\"\n",
    "\n",
    "\n",
    "class PupilsInClassRoom(p2n.MeltLocationDesigner):\n",
    "    n_agents = 4\n",
    "\n",
    "    def filter(self, agent):\n",
    "        return agent.status == \"pupil\"\n",
    "\n",
    "    def split(self, agent):\n",
    "        return agent.grade\n",
    "\n",
    "    def stick_together(self, agent):\n",
    "        return agent.friend_group\n",
    "\n",
    "\n",
    "class ClassRoom(p2n.LocationDesigner):\n",
    "    def melt(self):\n",
    "        return TeachersInClassRoom, PupilsInClassRoom\n",
    "\n",
    "    def weight(self, agent):\n",
    "        return agent.hours\n",
    "\n",
    "    def project_weights(self, agent1, agent2) -> float:\n",
    "        return min([self.get_weight(agent1), self.get_weight(agent2)])"
   ]
  },
  {
   "cell_type": "code",
   "execution_count": null,
   "metadata": {},
   "outputs": [],
   "source": [
    "creator.create(df=df_school, location_designers=[ClassRoom], clear=True)\n",
    "inspector.plot_networks(agent_color=\"status\")"
   ]
  },
  {
   "cell_type": "markdown",
   "metadata": {},
   "source": [
    "## More than one location\n",
    "\n",
    "The melting of locations combines different locations into one location, but does not create multiple different location classes.\n",
    "If we want to generate multiple different location types, we have to simply feed more than one location class into the `Creator`.\n",
    "\n",
    "In the following, we introduce a `School` as a second type of location.\n",
    "(In order to keep the code clean, we skip the melting of locations temporarely.)"
   ]
  },
  {
   "cell_type": "code",
   "execution_count": null,
   "metadata": {},
   "outputs": [],
   "source": [
    "class ClassRoom(p2n.LocationDesigner):\n",
    "    n_agents = 4\n",
    "\n",
    "    def filter(self, agent):\n",
    "        return agent.status == \"pupil\"\n",
    "\n",
    "    def split(self, agent):\n",
    "        return agent.grade\n",
    "\n",
    "    def stick_together(self, agent):\n",
    "        return agent.friend_group\n",
    "\n",
    "    def weight(self, agent):\n",
    "        return agent.hours\n",
    "\n",
    "    def project_weights(self, agent1, agent2) -> float:\n",
    "        return min([self.get_weight(agent1), self.get_weight(agent2)])\n",
    "\n",
    "\n",
    "class School(p2n.LocationDesigner):\n",
    "    n_locations = 2"
   ]
  },
  {
   "cell_type": "code",
   "execution_count": null,
   "metadata": {},
   "outputs": [],
   "source": [
    "creator.create(df=df_school, location_designers=[ClassRoom, School], clear=True)\n",
    "inspector.plot_networks(location_color=\"label\")"
   ]
  },
  {
   "cell_type": "markdown",
   "metadata": {},
   "source": [
    "## Nesting locations\n",
    "The plot above shows two big clusters.\n",
    "Each of those clusters represents one school.\n",
    "The plot above also shows something unrealistic: The schools are connected because members of one class are not always in the same school.\n",
    "\n",
    "### Nesting locations using `stick_together()`\n",
    "We can use the `School`-method `stick_together()` to fix this issue.\n",
    "This works because whenever an agent is assigned to a location instance, the agent gets a new attribute named after the location class.\n",
    "This new attribute is set to a location instance identifier value."
   ]
  },
  {
   "cell_type": "code",
   "execution_count": null,
   "metadata": {},
   "outputs": [],
   "source": [
    "class ClassRoom(p2n.LocationDesigner):\n",
    "    n_agents = 4\n",
    "\n",
    "    def filter(self, agent):\n",
    "        return agent.status == \"pupil\"\n",
    "\n",
    "    def split(self, agent):\n",
    "        return agent.grade\n",
    "\n",
    "    def stick_together(self, agent):\n",
    "        return agent.friend_group\n",
    "\n",
    "    def weight(self, agent):\n",
    "        return agent.hours\n",
    "\n",
    "    def project_weights(self, agent1, agent2) -> float:\n",
    "        return min([self.get_weight(agent1), self.get_weight(agent2)])\n",
    "\n",
    "\n",
    "class School(p2n.LocationDesigner):\n",
    "    n_locations = 2\n",
    "\n",
    "    def stick_together(self, agent):\n",
    "        return agent.ClassRoom"
   ]
  },
  {
   "cell_type": "code",
   "execution_count": null,
   "metadata": {},
   "outputs": [],
   "source": [
    "creator.create(df=df_school, location_designers=[ClassRoom, School], clear=True)\n",
    "inspector.plot_networks(location_color=\"label\")"
   ]
  },
  {
   "cell_type": "markdown",
   "metadata": {},
   "source": [
    "Note that it is very important that the agents get assigned to classrooms before getting assigned to schools.\n",
    "This means that the order of the creation of the locations is important and, hence, the order of the location classes given to the `location_designers` argument.\n",
    "\n",
    "If we build schools before classrooms, the above method does not work the way intended:"
   ]
  },
  {
   "cell_type": "code",
   "execution_count": null,
   "metadata": {},
   "outputs": [],
   "source": [
    "creator.create(df=df_school, location_designers=[School, ClassRoom], clear=True)\n",
    "\n",
    "inspector.plot_networks(location_color=\"label\")"
   ]
  },
  {
   "cell_type": "markdown",
   "metadata": {},
   "source": [
    "As we saw, the method `stick_together()` can be used to nest locations into other locations.\n",
    "However, this approach is limited because we can only specify one location class as the return value of `stick_together()`.\n",
    "\n",
    "### Nesting locations using `nest()`\n",
    "\n",
    "Another way to nest locations into other locations is to use the location method `nest()`.\n",
    "The method `nest()` can return `None` or a location class.\n",
    "If `nest()` returns a location class, the location is nested into the returned location class.\n",
    "For instance, to nest classrooms within schools, we must define the method `nest()` for the location `ClassRoom` and let this method return `School`.\n",
    "Again, the order of location creation plays a crucial role: The level-1 location must always be created after the level-2 location."
   ]
  },
  {
   "cell_type": "code",
   "execution_count": null,
   "metadata": {},
   "outputs": [],
   "source": [
    "class ClassRoom(p2n.LocationDesigner):\n",
    "    def setup(self):\n",
    "        self.n_agents = 4\n",
    "\n",
    "    def filter(self, agent):\n",
    "        return agent.status == \"pupil\"\n",
    "\n",
    "    def split(self, agent):\n",
    "        return agent.grade\n",
    "\n",
    "    def stick_together(self, agent):\n",
    "        return agent.friend_group\n",
    "\n",
    "    def weight(self, agent):\n",
    "        return agent.hours\n",
    "\n",
    "    def project_weights(self, agent1, agent2) -> float:\n",
    "        return min([self.get_weight(agent1), self.get_weight(agent2)])\n",
    "\n",
    "    def nest(self):\n",
    "        return \"School\"\n",
    "\n",
    "\n",
    "class School(p2n.LocationDesigner):\n",
    "    n_locations = 2"
   ]
  },
  {
   "cell_type": "code",
   "execution_count": null,
   "metadata": {},
   "outputs": [],
   "source": [
    "creator.create(df=df_school, location_designers=[School, ClassRoom], clear=True)\n",
    "inspector.plot_networks(location_color=\"label\")"
   ]
  },
  {
   "cell_type": "markdown",
   "metadata": {},
   "source": [
    "`nest()` allows us to nest as many locations in as many levels as we want.\n",
    "However, `nest()` has one disadvantage: Because the agents are first grouped into the level-2 location and then into the level-1 location, specific compositions defined at level 1 are not considered when grouping the agents into the level-2 locations.\n",
    "\n",
    "The following example demonstrates that:"
   ]
  },
  {
   "cell_type": "code",
   "execution_count": null,
   "metadata": {},
   "outputs": [],
   "source": [
    "class TeachersInClassRoom(p2n.MeltLocationDesigner):\n",
    "    def setup(self):\n",
    "        self.n_agents = 1\n",
    "\n",
    "    def filter(self, agent):\n",
    "        return agent.status == \"teacher\"\n",
    "\n",
    "\n",
    "class PupilsInClassRoom(p2n.MeltLocationDesigner):\n",
    "    def setup(self):\n",
    "        self.n_agents = 4\n",
    "\n",
    "    def filter(self, agent):\n",
    "        return agent.status == \"pupil\"\n",
    "\n",
    "    def split(self, agent):\n",
    "        return agent.grade\n",
    "\n",
    "\n",
    "class ClassRoom(p2n.LocationDesigner):\n",
    "    def melt(self):\n",
    "        return [TeachersInClassRoom, PupilsInClassRoom]\n",
    "\n",
    "    def weight(self, agent):\n",
    "        return agent.hours * 10\n",
    "\n",
    "    def project_weights(self, agent1, agent2) -> float:\n",
    "        return min([self.get_weight(agent1), self.get_weight(agent2)])\n",
    "\n",
    "    def nest(self):\n",
    "        return \"School\"\n",
    "\n",
    "\n",
    "class School(p2n.LocationDesigner):\n",
    "    n_locations = 2"
   ]
  },
  {
   "cell_type": "code",
   "execution_count": null,
   "metadata": {},
   "outputs": [],
   "source": [
    "creator.create(df=df_school, location_designers=[School, ClassRoom], clear=True)\n",
    "inspector.plot_networks(location_color=\"label\", agent_color=\"status\")"
   ]
  },
  {
   "cell_type": "markdown",
   "metadata": {},
   "source": [
    "As you can see in the graph above, the compositions defined by `ClassRoom` are not always met.\n",
    "That is due to the fact that the agents are first assigned to the schools independently of the settings defined by `ClassRoom`.\n",
    "When the classrooms are built, there are not always the *necessary* agents in each school needed to meet the composition defined in `ClassRoom`.\n",
    "This might not always be a problem.\n",
    "However, if we want to ensure that classrooms always have the defined composition of agents, they have to be created before the schools are created and, thus, we have to use the method `stick_together()` to nest classrooms into schools:"
   ]
  },
  {
   "cell_type": "code",
   "execution_count": null,
   "metadata": {},
   "outputs": [],
   "source": [
    "class TeachersInClassRoom(p2n.MeltLocationDesigner):\n",
    "    def setup(self):\n",
    "        self.n_agents = 1\n",
    "\n",
    "    def filter(self, agent):\n",
    "        return agent.status == \"teacher\"\n",
    "\n",
    "\n",
    "class PupilsInClassRoom(p2n.MeltLocationDesigner):\n",
    "    def setup(self):\n",
    "        self.n_agents = 4\n",
    "\n",
    "    def filter(self, agent):\n",
    "        return agent.status == \"pupil\"\n",
    "\n",
    "    def split(self, agent):\n",
    "        return agent.grade\n",
    "\n",
    "    def stick_together(self, agent):\n",
    "        return agent.friend_group\n",
    "\n",
    "\n",
    "class ClassRoom(p2n.LocationDesigner):\n",
    "    def melt(self):\n",
    "        return [TeachersInClassRoom, PupilsInClassRoom]\n",
    "\n",
    "    def weight(self, agent):\n",
    "        return agent.hours * 10\n",
    "\n",
    "    def project_weights(self, agent1, agent2) -> float:\n",
    "        return min([self.get_weight(agent1), self.get_weight(agent2)])\n",
    "\n",
    "\n",
    "class School(p2n.LocationDesigner):\n",
    "    n_locations = 2\n",
    "\n",
    "    def stick_together(self, agent):\n",
    "        return agent.ClassRoom"
   ]
  },
  {
   "cell_type": "code",
   "execution_count": null,
   "metadata": {},
   "outputs": [],
   "source": [
    "creator.create(df=df_school, location_designers=[ClassRoom, School], clear=True)\n",
    "inspector.plot_networks(location_color=\"label\")"
   ]
  },
  {
   "cell_type": "markdown",
   "metadata": {},
   "source": [
    "It is also possible to combine both nesting techniques.\n",
    "We could first nest the class `ClassRoom` into `School` using `stick_together()` in order to get the composition wanted for `ClassRoom` and then use `nest()` to nest further locations into `School`, as it is done in the next example:"
   ]
  },
  {
   "cell_type": "code",
   "execution_count": null,
   "metadata": {},
   "outputs": [],
   "source": [
    "class TeachersInClassRoom(p2n.MeltLocationDesigner):\n",
    "    n_agents = 1\n",
    "\n",
    "    def filter(self, agent):\n",
    "        return agent.status == \"teacher\"\n",
    "\n",
    "\n",
    "class PupilsInClassRoom(p2n.MeltLocationDesigner):\n",
    "    n_agents = 4\n",
    "\n",
    "    def filter(self, agent):\n",
    "        return agent.status == \"pupil\"\n",
    "\n",
    "    def split(self, agent):\n",
    "        return agent.grade\n",
    "\n",
    "    def stick_together(self, agent):\n",
    "        return agent.friend_group\n",
    "\n",
    "\n",
    "class ClassRoom(p2n.LocationDesigner):\n",
    "    def melt(self):\n",
    "        return [TeachersInClassRoom, PupilsInClassRoom]\n",
    "\n",
    "    def weight(self, agent):\n",
    "        return agent.hours * 10\n",
    "\n",
    "    def project_weights(self, agent1, agent2) -> float:\n",
    "        return min([self.get_weight(agent1), self.get_weight(agent2)])\n",
    "\n",
    "\n",
    "class School(p2n.LocationDesigner):\n",
    "    n_locations = 2\n",
    "\n",
    "    def stick_together(self, agent):\n",
    "        return agent.ClassRoom\n",
    "\n",
    "\n",
    "class SoccerTeam(p2n.LocationDesigner):\n",
    "    n_agents = 11\n",
    "\n",
    "    def nest(self):\n",
    "        return \"School\""
   ]
  },
  {
   "cell_type": "code",
   "execution_count": null,
   "metadata": {},
   "outputs": [],
   "source": [
    "creator.create(\n",
    "    df=df_school,\n",
    "    location_designers=[\n",
    "        ClassRoom,  # nested into School using `stick_together()`\n",
    "        School,\n",
    "        SoccerTeam,  # nested into School using `nest()`\n",
    "    ],\n",
    "    clear=True,\n",
    ")"
   ]
  },
  {
   "cell_type": "code",
   "execution_count": null,
   "metadata": {},
   "outputs": [],
   "source": [
    "inspector.plot_networks(location_color=\"label\", agent_color=\"status\")"
   ]
  },
  {
   "cell_type": "markdown",
   "metadata": {},
   "source": [
    "This way we can nest multiple locations into one level-2 location and at the same time ensure that the composition of agents defined in `ClassRoom` is met in each school.\n",
    "The order of the locations plays a crucial role:\n",
    "1. The classrooms with the desired compositions are created\n",
    "2. The schools are created keeping together whole classrooms\n",
    "3. Soccer teams are created within the schools"
   ]
  },
  {
   "cell_type": "markdown",
   "metadata": {},
   "source": [
    "## Integrating networkx graph generators\n",
    "\n",
    "One great features of Pop2net is that we do not have to forego classic network models because networkX graph generators are easily integrateble.\n",
    "To build a network component based on a networkX graph  or networkX graph generator, we only have to set the LocationDesigner class attribute `nxgraph` to the desired graph (generator).\n",
    "\n",
    "In the following example, we define a location class that creates a small world network from a networkx graph generator:"
   ]
  },
  {
   "cell_type": "code",
   "execution_count": null,
   "metadata": {},
   "outputs": [],
   "source": [
    "import networkx as nx\n",
    "\n",
    "model = p2n.Model()\n",
    "creator = p2n.Creator(model)\n",
    "inspector = p2n.NetworkInspector(model)\n",
    "\n",
    "N_AGENTS = 50\n",
    "\n",
    "\n",
    "class SmallWorld(p2n.LocationDesigner):\n",
    "    nxgraph = nx.watts_strogatz_graph(n=N_AGENTS, k=4, p=0.05)\n",
    "\n",
    "\n",
    "creator.create_agents(n=N_AGENTS)\n",
    "creator.create_locations(\n",
    "    location_designers=[\n",
    "        SmallWorld,\n",
    "    ],\n",
    ")\n",
    "inspector.plot_networks()"
   ]
  },
  {
   "cell_type": "markdown",
   "metadata": {},
   "source": [
    "As we can see in the bipartite network graph, networkX graphs are translated into a pop2net graph by creating one location instance for each bilateral relation between nodes.\n",
    "Thus, agents are assigned to multiple instances of the `SmallWorld` location class:"
   ]
  },
  {
   "cell_type": "code",
   "execution_count": null,
   "metadata": {},
   "outputs": [],
   "source": [
    "agent = model.agents[0]\n",
    "\n",
    "for location in agent.locations:\n",
    "    print(location.label)"
   ]
  },
  {
   "cell_type": "markdown",
   "metadata": {},
   "source": [
    "To get all neighbors that are connected to an agent via the small world graph we could do the follwoing:"
   ]
  },
  {
   "cell_type": "code",
   "execution_count": null,
   "metadata": {},
   "outputs": [],
   "source": [
    "agent.neighbors(location_labels=[\"SmallWorld\"])"
   ]
  },
  {
   "cell_type": "markdown",
   "metadata": {},
   "source": [
    "When building locations based on networkX graphs we still retain the flexibility of Pop2net and its LocationDesigners.\n",
    "For instance, we could create seperated small worlds for each group of agents or layer multiple network structures by defining multiple location classes:"
   ]
  },
  {
   "cell_type": "code",
   "execution_count": null,
   "metadata": {},
   "outputs": [],
   "source": [
    "model = p2n.Model()\n",
    "creator = p2n.Creator(model)\n",
    "inspector = p2n.NetworkInspector(model)\n",
    "\n",
    "N_AGENTS = 50\n",
    "N_GROUPS = 2\n",
    "\n",
    "\n",
    "class SmallWorld(p2n.LocationDesigner):\n",
    "    nxgraph = nx.watts_strogatz_graph(n=int(N_AGENTS / N_GROUPS), k=4, p=0.05)\n",
    "\n",
    "    def split(self, agent):\n",
    "        return agent.group\n",
    "\n",
    "\n",
    "class Bridge(p2n.LocationDesigner):\n",
    "    n_locations = 1\n",
    "\n",
    "    def bridge(self, agent):\n",
    "        return agent.group\n",
    "\n",
    "\n",
    "creator.create_agents(n=N_AGENTS)\n",
    "\n",
    "for i, agent in enumerate(model.agents):\n",
    "    agent.group = i % N_GROUPS\n",
    "\n",
    "creator.create_locations(\n",
    "    location_designers=[\n",
    "        SmallWorld,\n",
    "        Bridge,\n",
    "    ],\n",
    ")\n",
    "inspector.plot_networks(agent_color=\"group\")"
   ]
  },
  {
   "cell_type": "markdown",
   "metadata": {},
   "source": [
    "## Magic agent attributes\n",
    "\n",
    "When creating locations with the Creator class, the Creator temporarily sets certain agent attributes that provide information about the specific location to which the agent has been assigned and the position of the agent within this location.\n",
    "These temporary agent attributes can be used to address specific agents when defining a second location type.\n",
    "Each of the temporary agent attributes begins with the name of the location label.\n",
    "\n",
    "The following list shows all magic agent attributes:\n",
    "\n",
    "- `agent.LOCATIONLABEL`: An identifier of the location the agent was assigned to.\n",
    "- `agent.LOCATIONLABEL_assigned`: A bool which is `True` if the agent was assigned to this location class.\n",
    "- `agent.LOCATIONLABEL_id`: An identifier of the sub-location instance.\n",
    "- `agent.LOCATIONLABEL_position`: An identifier of the agent's *position* within the location. The *first* agent gets a `0`.\n",
    "- `agent.LOCATIONLABEL_head`: A bool which is `True` if the agent is the first agent within the location.\n",
    "- `agent.LOCATIONLABEL_tail`: A bool which is `True` if the agent is the last agent within the location.\n",
    "\n",
    "In the following example, we first create 3 simple clusters by defining the 'Cluster' location class.\n",
    "In the next step we select an agent from each cluster and connect them to the location class `Bridge`.\n",
    "To select only one agent from each cluster, we filter by the magic agent attribute `agent.Cluster_head` that was set when the clusters were created.\n",
    "This way, only the *first* agent of each cluster is assigned to the `Bridge` location."
   ]
  },
  {
   "cell_type": "code",
   "execution_count": null,
   "metadata": {},
   "outputs": [],
   "source": [
    "model = p2n.Model()\n",
    "creator = p2n.Creator(model)\n",
    "inspector = p2n.NetworkInspector(model)\n",
    "\n",
    "\n",
    "class Cluster(p2n.LocationDesigner):\n",
    "    n_locations = 3\n",
    "\n",
    "\n",
    "class Bridge(p2n.LocationDesigner):\n",
    "    def filter(self, agent):\n",
    "        return agent.Cluster_head\n",
    "\n",
    "\n",
    "creator.create_agents(n=30)\n",
    "creator.create_locations(\n",
    "    location_designers=[\n",
    "        Cluster,\n",
    "        Bridge,\n",
    "    ],\n",
    ")\n",
    "\n",
    "inspector.plot_networks()"
   ]
  },
  {
   "cell_type": "markdown",
   "metadata": {},
   "source": [
    "As the creator builds one location class after another, it is very important that the order of the location classes provided to the creator is correct.\n",
    "In the following, the connection of the clusters fails due to an incorrect order of the location classes provided to the creator."
   ]
  },
  {
   "cell_type": "code",
   "execution_count": null,
   "metadata": {},
   "outputs": [],
   "source": [
    "class Cluster(p2n.LocationDesigner):\n",
    "    n_locations = 3\n",
    "\n",
    "\n",
    "class Bridge(p2n.LocationDesigner):\n",
    "    def filter(self, agent):\n",
    "        return agent.Cluster_head\n",
    "\n",
    "\n",
    "creator.create_agents(n=30, clear=True)\n",
    "creator.create_locations(\n",
    "    location_designers=[\n",
    "        Bridge,\n",
    "        Cluster,\n",
    "    ],\n",
    "    clear=True,\n",
    ")\n",
    "\n",
    "inspector.plot_networks()"
   ]
  }
 ],
 "metadata": {
  "kernelspec": {
   "display_name": ".venv",
   "language": "python",
   "name": "python3"
  },
  "language_info": {
   "codemirror_mode": {
    "name": "ipython",
    "version": 3
   },
   "file_extension": ".py",
   "mimetype": "text/x-python",
   "name": "python",
   "nbconvert_exporter": "python",
   "pygments_lexer": "ipython3",
   "version": "3.9.12"
  }
 },
 "nbformat": 4,
 "nbformat_minor": 2
}
