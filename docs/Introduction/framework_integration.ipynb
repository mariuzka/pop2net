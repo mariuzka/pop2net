{
 "cells": [
  {
   "cell_type": "markdown",
   "id": "2cf8ab46",
   "metadata": {},
   "source": [
    "# Integration into frameworks"
   ]
  },
  {
   "cell_type": "markdown",
   "id": "55bee6f3",
   "metadata": {},
   "source": [
    "## Mesa"
   ]
  },
  {
   "cell_type": "code",
   "execution_count": 74,
   "id": "b9164458",
   "metadata": {},
   "outputs": [],
   "source": [
    "import pop2net as p2n\n",
    "import mesa"
   ]
  },
  {
   "cell_type": "code",
   "execution_count": 75,
   "id": "fad5438b",
   "metadata": {},
   "outputs": [],
   "source": [
    "class Agent(p2n.Actor, mesa.Agent):\n",
    "    def say_hello(self):\n",
    "        print(\"Hello I am an actor.\")"
   ]
  },
  {
   "cell_type": "code",
   "execution_count": null,
   "id": "e1229c4a",
   "metadata": {},
   "outputs": [],
   "source": [
    "class Location(p2n.Location, mesa.Agent):\n",
    "    def say_hello(self):\n",
    "        print(\"Hello I am a location.\")"
   ]
  },
  {
   "cell_type": "code",
   "execution_count": null,
   "id": "1fdfe213",
   "metadata": {},
   "outputs": [],
   "source": [
    "class Model(mesa.Model):\n",
    "    def __init__(self, *args, **kwargs):\n",
    "        super().__init__(*args, **kwargs)\n",
    "\n",
    "        # add pop2net environment object as model attribute\n",
    "        self.env = p2n.Environment(model=self, framework=\"mesa\")\n",
    "\n",
    "        # add one actor to the environment\n",
    "        self.env.add_actor(Agent(model=self))\n",
    "\n",
    "        # add one location to the environment\n",
    "        self.env.add_location(Location(model=self))\n",
    "\n",
    "    def step(self):\n",
    "        # Because env.actors and env.locations are AgentSets now,\n",
    "        # we can use the Mesa Syntax to let the agents do something:\n",
    "        self.env.actors.do(\"say_hello\")\n",
    "        self.env.locations.do(\"say_hello\")"
   ]
  },
  {
   "cell_type": "code",
   "execution_count": 78,
   "id": "1692ccab",
   "metadata": {},
   "outputs": [],
   "source": [
    "model = Model()"
   ]
  },
  {
   "cell_type": "code",
   "execution_count": 79,
   "id": "562a2906",
   "metadata": {},
   "outputs": [
    {
     "data": {
      "text/plain": [
       "<mesa.agent.AgentSet at 0x75daa3d7d0a0>"
      ]
     },
     "execution_count": 79,
     "metadata": {},
     "output_type": "execute_result"
    }
   ],
   "source": [
    "model.agents"
   ]
  },
  {
   "cell_type": "code",
   "execution_count": 80,
   "id": "f93cf0f4",
   "metadata": {},
   "outputs": [
    {
     "data": {
      "text/plain": [
       "[<__main__.Agent at 0x75daa3b964b0>, <__main__.Location at 0x75daa3b96a20>]"
      ]
     },
     "execution_count": 80,
     "metadata": {},
     "output_type": "execute_result"
    }
   ],
   "source": [
    "list(model.agents)"
   ]
  },
  {
   "cell_type": "code",
   "execution_count": 81,
   "id": "d7868bda",
   "metadata": {},
   "outputs": [
    {
     "data": {
      "text/plain": [
       "<mesa.agent.AgentSet at 0x75daa3b96810>"
      ]
     },
     "execution_count": 81,
     "metadata": {},
     "output_type": "execute_result"
    }
   ],
   "source": [
    "model.env.actors"
   ]
  },
  {
   "cell_type": "code",
   "execution_count": 82,
   "id": "a9635e86",
   "metadata": {},
   "outputs": [
    {
     "name": "stdout",
     "output_type": "stream",
     "text": [
      "Hello I am an actor.\n",
      "Hello I am a location.\n"
     ]
    }
   ],
   "source": [
    "model.step()"
   ]
  },
  {
   "cell_type": "code",
   "execution_count": null,
   "id": "8e68a684",
   "metadata": {},
   "outputs": [],
   "source": [
    "class Model(mesa.Model):\n",
    "    def __init__(self, *args, **kwargs):\n",
    "        super().__init__(*args, **kwargs)\n",
    "\n",
    "        # add pop2net environment object as model attribute\n",
    "        self.env = p2n.Environment(model=self, framework=\"mesa\")\n",
    "\n",
    "        # add one actor to the environment\n",
    "        self.env.add_actor(Agent(model=self))\n",
    "\n",
    "        # add one location to the environment\n",
    "        self.env.add_location(Location(model=self))\n",
    "\n",
    "    def step(self):\n",
    "        # Because env.actors and env.locations are AgentSets now,\n",
    "        # we can use the Mesa Syntax to let the agents do something:\n",
    "        self.env.actors.do(\"say_hello\")\n",
    "        self.env.locations.do(\"say_hello\")"
   ]
  },
  {
   "cell_type": "markdown",
   "id": "4228e05d",
   "metadata": {},
   "source": [
    "## AgentPy"
   ]
  }
 ],
 "metadata": {
  "kernelspec": {
   "display_name": ".venv",
   "language": "python",
   "name": "python3"
  },
  "language_info": {
   "codemirror_mode": {
    "name": "ipython",
    "version": 3
   },
   "file_extension": ".py",
   "mimetype": "text/x-python",
   "name": "python",
   "nbconvert_exporter": "python",
   "pygments_lexer": "ipython3",
   "version": "3.12.3"
  }
 },
 "nbformat": 4,
 "nbformat_minor": 5
}
