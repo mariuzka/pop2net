{
 "cells": [
  {
   "cell_type": "code",
   "execution_count": 1,
   "id": "f1747fdf",
   "metadata": {},
   "outputs": [],
   "source": [
    "import pop2net as p2n\n",
    "import mesa\n",
    "import agentpy as ap"
   ]
  },
  {
   "cell_type": "markdown",
   "id": "2cf8ab46",
   "metadata": {},
   "source": [
    "# Integration into ABM frameworks\n",
    "\n",
    "Pop2net provides seamless integration with two widely used agent-based modeling (ABM) frameworks: Mesa and AgentPy.\n",
    "\n",
    "To use Pop2net with either framework, you only need to follow two steps:\n",
    "\n",
    "First, when defining an Actor or Location class, it must inherit from both the corresponding Pop2net class and the framework’s class — in that order. For example:\n",
    "\n",
    "```python\n",
    "class Actor(p2n.Actor, mesa.Agent):\n",
    "    pass\n",
    "\n",
    "class Location(p2n.Location, mesa.Agent):\n",
    "    pass\n",
    "```\n",
    "\n",
    "Second, provide the model instance and the name of the framework to the Environment object:\n",
    "\n",
    "```python\n",
    "env = p2n.Environment(model=model, framework=\"mesa\")\n",
    "```"
   ]
  },
  {
   "cell_type": "markdown",
   "id": "55bee6f3",
   "metadata": {},
   "source": [
    "## A Simple Example with Mesa\n",
    "\n",
    "Let's begin by defining an `Actor` class.  \n",
    "It's important that the class inherits first from `p2n.Actor`, and then from `mesa.Agent`:"
   ]
  },
  {
   "cell_type": "code",
   "execution_count": 2,
   "id": "fad5438b",
   "metadata": {},
   "outputs": [],
   "source": [
    "class Actor(p2n.Actor, mesa.Agent):\n",
    "    def say_hello(self):\n",
    "        print(\"Hello I am an actor.\")"
   ]
  },
  {
   "cell_type": "markdown",
   "id": "ef9384dc",
   "metadata": {},
   "source": [
    "Location classes must also inherit from `mesa.Agent`:"
   ]
  },
  {
   "cell_type": "code",
   "execution_count": 3,
   "id": "e1229c4a",
   "metadata": {},
   "outputs": [],
   "source": [
    "class Location(p2n.Location, mesa.Agent):\n",
    "    def say_hello(self):\n",
    "        print(\"Hello I am a location.\")"
   ]
  },
  {
   "cell_type": "markdown",
   "id": "4151b39c",
   "metadata": {},
   "source": [
    "A common use case when integrating Pop2net with Mesa (or AgentPy) is to extend the simulation model with an `Environment` object. This object stores all actors and locations and manages their relationships using Pop2net's structure.\n",
    "When extending a Mesa model with a Pop2net environment, it's important to pass the model instance to the `Environment` and to set the `framework` argument to `\"mesa\"`:\n"
   ]
  },
  {
   "cell_type": "code",
   "execution_count": 4,
   "id": "1fdfe213",
   "metadata": {},
   "outputs": [],
   "source": [
    "class Model(mesa.Model):\n",
    "    def __init__(self, *args, **kwargs):\n",
    "        super().__init__(*args, **kwargs)\n",
    "\n",
    "        # add pop2net environment object as model attribute\n",
    "        self.env = p2n.Environment(model=self, framework=\"mesa\")\n",
    "\n",
    "        # add one actor to the environment\n",
    "        self.env.add_actor(Actor(model=self))\n",
    "\n",
    "        # add one location to the environment\n",
    "        self.env.add_location(Location(model=self))\n",
    "\n",
    "    def step(self):\n",
    "        # Because env.actors and env.locations are AgentSets now,\n",
    "        # we can use the Mesa Syntax to let the agents do something:\n",
    "        self.env.actors.do(\"say_hello\")\n",
    "        self.env.locations.do(\"say_hello\")"
   ]
  },
  {
   "cell_type": "markdown",
   "id": "eb45b931",
   "metadata": {},
   "source": [
    "Let's create the model and have a look at the agent attribute:"
   ]
  },
  {
   "cell_type": "code",
   "execution_count": 5,
   "id": "1692ccab",
   "metadata": {},
   "outputs": [
    {
     "data": {
      "text/plain": [
       "[<__main__.Actor at 0x73cefae16b10>, <__main__.Location at 0x73cf500ae390>]"
      ]
     },
     "execution_count": 5,
     "metadata": {},
     "output_type": "execute_result"
    }
   ],
   "source": [
    "model = Model()\n",
    "list(model.agents)"
   ]
  },
  {
   "cell_type": "markdown",
   "id": "c1bf7301",
   "metadata": {},
   "source": [
    "As you can see, the agent attribute includes both the actor and the location because locations are also considered as agents in Pop2net.\n",
    "This is something you have to keep in mind!\n",
    "\n",
    "To get only actors or only locations, you can use `model.env.actors` or `model.env.locations`. Both are `mesa.AgentSet`s now:"
   ]
  },
  {
   "cell_type": "code",
   "execution_count": 6,
   "id": "d7868bda",
   "metadata": {},
   "outputs": [
    {
     "data": {
      "text/plain": [
       "<mesa.agent.AgentSet at 0x73cefadae450>"
      ]
     },
     "execution_count": 6,
     "metadata": {},
     "output_type": "execute_result"
    }
   ],
   "source": [
    "model.env.actors"
   ]
  },
  {
   "cell_type": "code",
   "execution_count": 7,
   "id": "5070bb80",
   "metadata": {},
   "outputs": [
    {
     "data": {
      "text/plain": [
       "[<__main__.Actor at 0x73cefae16b10>]"
      ]
     },
     "execution_count": 7,
     "metadata": {},
     "output_type": "execute_result"
    }
   ],
   "source": [
    "list(model.env.actors)"
   ]
  },
  {
   "cell_type": "code",
   "execution_count": 8,
   "id": "03123259",
   "metadata": {},
   "outputs": [
    {
     "data": {
      "text/plain": [
       "<mesa.agent.AgentSet at 0x73cefa1c49b0>"
      ]
     },
     "execution_count": 8,
     "metadata": {},
     "output_type": "execute_result"
    }
   ],
   "source": [
    "model.env.locations"
   ]
  },
  {
   "cell_type": "code",
   "execution_count": 9,
   "id": "580a0270",
   "metadata": {},
   "outputs": [
    {
     "data": {
      "text/plain": [
       "[<__main__.Location at 0x73cf500ae390>]"
      ]
     },
     "execution_count": 9,
     "metadata": {},
     "output_type": "execute_result"
    }
   ],
   "source": [
    "list(model.env.locations)"
   ]
  },
  {
   "cell_type": "markdown",
   "id": "bce2db81",
   "metadata": {},
   "source": [
    "Let's run the model for one step:"
   ]
  },
  {
   "cell_type": "code",
   "execution_count": 10,
   "id": "a9635e86",
   "metadata": {},
   "outputs": [
    {
     "name": "stdout",
     "output_type": "stream",
     "text": [
      "Hello I am an actor.\n",
      "Hello I am a location.\n"
     ]
    }
   ],
   "source": [
    "model.step()"
   ]
  },
  {
   "cell_type": "markdown",
   "id": "6b1303f6",
   "metadata": {},
   "source": [
    "## A simple example with AgentPy\n",
    "\n",
    "Here is the same example adapted for **AgentPy**"
   ]
  },
  {
   "cell_type": "code",
   "execution_count": 11,
   "id": "fec7f555",
   "metadata": {},
   "outputs": [],
   "source": [
    "class Actor(p2n.Actor, ap.Agent):\n",
    "    def say_hello(self):\n",
    "        print(\"Hello I am an actor.\")"
   ]
  },
  {
   "cell_type": "code",
   "execution_count": 12,
   "id": "fc3e733f",
   "metadata": {},
   "outputs": [],
   "source": [
    "class Location(p2n.Location, ap.Agent):\n",
    "    def say_hello(self):\n",
    "        print(\"Hello I am a location.\")"
   ]
  },
  {
   "cell_type": "code",
   "execution_count": 13,
   "id": "ab437aaa",
   "metadata": {},
   "outputs": [],
   "source": [
    "class Model(ap.Model):\n",
    "    def setup(self):\n",
    "        # add pop2net environment object as model attribute\n",
    "        self.env = p2n.Environment(model=self, framework=\"agentpy\")\n",
    "\n",
    "        # add one actor to the environment\n",
    "        self.env.add_actor(Actor(model=self))\n",
    "\n",
    "        # add one location to the environment\n",
    "        self.env.add_location(Location(model=self))\n",
    "\n",
    "    def step(self):\n",
    "        # Because env.actors and env.locations are AgentSets now,\n",
    "        # we can use the Mesa Syntax to let the agents do something:\n",
    "        self.env.actors.say_hello()\n",
    "        self.env.locations.say_hello()"
   ]
  },
  {
   "cell_type": "code",
   "execution_count": 14,
   "id": "e974480c",
   "metadata": {},
   "outputs": [
    {
     "name": "stdout",
     "output_type": "stream",
     "text": [
      "Hello I am an actor.\n",
      "Hello I am a location.\n",
      "Completed: 1 steps\n",
      "Run time: 0:00:00.000297\n",
      "Simulation finished\n"
     ]
    },
    {
     "data": {
      "text/plain": [
       "DataDict {\n",
       "'info': Dictionary with 9 keys\n",
       "'reporters': DataFrame with 1 variable and 1 row\n",
       "}"
      ]
     },
     "execution_count": 14,
     "metadata": {},
     "output_type": "execute_result"
    }
   ],
   "source": [
    "model = Model()\n",
    "model.run(steps=1)"
   ]
  }
 ],
 "metadata": {
  "kernelspec": {
   "display_name": ".venv",
   "language": "python",
   "name": "python3"
  },
  "language_info": {
   "codemirror_mode": {
    "name": "ipython",
    "version": 3
   },
   "file_extension": ".py",
   "mimetype": "text/x-python",
   "name": "python",
   "nbconvert_exporter": "python",
   "pygments_lexer": "ipython3",
   "version": "3.12.3"
  }
 },
 "nbformat": 4,
 "nbformat_minor": 5
}
