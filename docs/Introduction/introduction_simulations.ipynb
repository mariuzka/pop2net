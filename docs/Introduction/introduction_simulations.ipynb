{
 "cells": [
  {
   "cell_type": "markdown",
   "metadata": {},
   "source": [
    "# Running simulations using Pop2net\n",
    "\n",
    "In the previous part of this introduction, we have learned how to use Pop2net to build, evaluate and export networks.\n",
    "In the following part of this introduction, we will learn how to use Pop2net to directly run a simulation based on the defined network.\n",
    "In this simple simulation example, we do not use any additional package to run the simulation, but only Pop2net.\n",
    "However, it is possible (and recommended) to use Pop2net in combination with a dedicated simulation framework, like Mesa or AgentPy.\n",
    "See chapter XXX (TODO) for examples of how to integrate Pop2net into Mesa and AgentPy.\n",
    "\n",
    "In the following, we programme a simple infection simulation as an example of how to use pop2net to run simulations."
   ]
  },
  {
   "cell_type": "code",
   "execution_count": null,
   "metadata": {
    "nbsphinx": "hidden"
   },
   "outputs": [
    {
     "ename": "",
     "evalue": "",
     "output_type": "error",
     "traceback": [
      "\u001b[1;31mDas Ausführen von Zellen mit \".venv (Python 3.11.0)\" erfordert das Paket ipykernel.\n",
      "\u001b[1;31mInstallieren Sie „ipykernel“ in der Python-Umgebung. \n",
      "\u001b[1;31mBefehl: „c:/_cloud_/OneDrive/ac135963/Projekte/pop2net/.venv/Scripts/python.exe -m pip install ipykernel -U --force-reinstall“"
     ]
    }
   ],
   "source": [
    "# this is a hidden cell which sets seeds for consistent outputs\n",
    "\n",
    "import random\n",
    "\n",
    "import numpy as np\n",
    "\n",
    "random.seed(0)\n",
    "np.random.seed(0)"
   ]
  },
  {
   "cell_type": "markdown",
   "metadata": {},
   "source": [
    "## DataFaker\n",
    "\n",
    "In the previous example, we used example data to create the population of actors.\n",
    "In this example, we also use *fake* data, but this time we use a data generator provided by Pop2net to generate the data.\n",
    "The DataFaker creates a data set of any size, which is similar to a classic survey data set.\n",
    "`pop2net.data_fakers.soep_faker` creates data similiar to the [German Socio-Economic Panel](https://www.diw.de/en/diw_01.c.678568.en/research_data_center_soep.html).\n",
    "\n",
    "We start by creating a dataset of 1000 rows:"
   ]
  },
  {
   "cell_type": "code",
   "execution_count": null,
   "metadata": {},
   "outputs": [],
   "source": [
    "import pop2net as p2n\n",
    "from pop2net.data_fakers.soep import soep_faker\n",
    "\n",
    "df_soep = soep_faker.soep(size=1000, seed=1000000)\n",
    "df_soep.head()"
   ]
  },
  {
   "cell_type": "markdown",
   "metadata": {},
   "source": [
    "## Creating a simulation\n",
    "\n",
    "Let's start with designing the network by defining 4 location types:\n",
    "A home `Home`, to which all actors of a household are assigned, a workplace `Work`, which groups the actors according to their occupational sectors, and a school `School`, which contains age-specific classes.\n",
    "To ensure that each actor has contact with at least two other actors, we also define the location `Ring`, which connects the entire population along a ring."
   ]
  },
  {
   "cell_type": "code",
   "execution_count": null,
   "metadata": {},
   "outputs": [],
   "source": [
    "import networkx as nx\n",
    "\n",
    "\n",
    "class Home(p2n.LocationDesigner):\n",
    "    def split(self, actor):\n",
    "        return actor.hid\n",
    "\n",
    "    def weight(self, actor):\n",
    "        return 12\n",
    "\n",
    "\n",
    "class Work(p2n.LocationDesigner):\n",
    "    n_actors = 10\n",
    "\n",
    "    def filter(self, actor):\n",
    "        return True if actor.work_hours_day > 0 and actor.nace2_division > 0 else False\n",
    "\n",
    "    def split(self, actor):\n",
    "        return actor.nace2_division\n",
    "\n",
    "    def weight(self, actor):\n",
    "        return actor.work_hours_day\n",
    "\n",
    "\n",
    "class School(p2n.LocationDesigner):\n",
    "    n_actors = 25\n",
    "\n",
    "    def filter(self, actor):\n",
    "        return True if 6 <= actor.age <= 18 else False\n",
    "\n",
    "    def split(self, actor):\n",
    "        return actor.age\n",
    "\n",
    "    def weight(self, actor):\n",
    "        return 6\n",
    "\n",
    "\n",
    "class Ring(p2n.LocationDesigner):\n",
    "    def setup(self):\n",
    "        self.nxgraph = nx.cycle_graph(n=len(self.model.env.actors))"
   ]
  },
  {
   "cell_type": "markdown",
   "metadata": {},
   "source": [
    "Next, we create our actor class with the attributes `infection_status` and `days_since_infection` as well as the methods `infect` and `update_infection_status`.\n",
    "\n",
    "What is relevant here is how the actor accesses other actors with which it is in contact.\n",
    "This is done using the `actor.neighbors()` method.\n",
    "On the other hand, it is relevant how the actor determines *how much* contact it has or has had with the other actors.\n",
    "This is done using the method `actor.get_actor_weight()`.\n",
    "Both methods include all locations that an actor visits."
   ]
  },
  {
   "cell_type": "code",
   "execution_count": null,
   "metadata": {},
   "outputs": [],
   "source": [
    "import random\n",
    "\n",
    "class Actor(p2n.Actor):\n",
    "    def __init__(self):\n",
    "        super().__init__()\n",
    "        self.infection_status = \"susceptible\"\n",
    "        self.days_since_infection = 0\n",
    "\n",
    "    def infect(self):\n",
    "        if self.infection_status in [\"infectious\", \"symptomatic\"]:\n",
    "            for actor_v in self.neighbors():\n",
    "                if actor_v.infection_status == \"susceptible\":\n",
    "                    infection_probability = 0.01 * self.get_actor_weight(actor_v)\n",
    "\n",
    "                    if random.random() < infection_probability:\n",
    "                        actor_v.infection_status = \"exposed\"\n",
    "\n",
    "    def update_infection_status(self):\n",
    "        if self.infection_status in [\"exposed\", \"infectious\", \"symptomatic\"]:\n",
    "            self.days_since_infection += 1\n",
    "\n",
    "            if 2 <= self.days_since_infection <= 5:\n",
    "                self.infection_status = \"infectious\"\n",
    "\n",
    "            elif 6 <= self.days_since_infection <= 10:\n",
    "                self.infection_status = \"symptomatic\"\n",
    "\n",
    "            elif self.days_since_infection >= 11:\n",
    "                self.infection_status = \"recovered\""
   ]
  },
  {
   "cell_type": "markdown",
   "metadata": {},
   "source": [
    "\n",
    "We extend the `InfectionModel` so that 10 random actors are infected at the start of the simulation (`setup()`).\n",
    "In `step()` we define what should happen in each individual time step of the simulation.\n",
    "First, the method `update_infection_status()` is to be executed for each actor and then the method `infect()` for each agent.\n",
    "If you are wondering about the strange syntax, have a look [here](https://agentpy.readthedocs.io/en/latest/overview.html#agent-sequences).\n",
    "The method `update()` is also executed in each time step, but always after the method `step()`.\n",
    "In `update()` we collect the number of agents ever infected per time step in order to visualize it after the simulation."
   ]
  },
  {
   "cell_type": "code",
   "execution_count": null,
   "metadata": {},
   "outputs": [],
   "source": [
    "class InfectionModel():\n",
    "    def __init__(self):\n",
    "        self.env = p2n.Environment(model=self)\n",
    "        self.creator = p2n.Creator(env=self.env)\n",
    "        self.n_infected_actors = []\n",
    "\n",
    "        # Create actors and locations and add them to the environment\n",
    "        self.creator.create(\n",
    "            df=df_soep,\n",
    "            actor_class=Actor,\n",
    "            location_designers=[\n",
    "                Home,\n",
    "                Work,\n",
    "                School,\n",
    "                Ring,\n",
    "            ],\n",
    "        )\n",
    "\n",
    "        # infect 10 random actors\n",
    "        for actor in random.choices(self.env.actors, k=10):\n",
    "            actor.infection_status = \"exposed\"\n",
    "\n",
    "        self.inspector = p2n.NetworkInspector(env=self.env)\n",
    "\n",
    "    def step(self):\n",
    "        for actor in self.env.actors:\n",
    "            actor.update_infection_status()\n",
    "        \n",
    "        for actor in self.env.actors:\n",
    "            actor.infect()\n",
    "        \n",
    "        n_currently_infected_actors = sum(\n",
    "            [1 for actor in self.env.actors if actor.infection_status in [\"infectious\", \"symptomatic\"]]\n",
    "            )\n",
    "        self.n_infected_actors.append(n_currently_infected_actors)\n",
    "\n",
    "    def run(self, steps=1):\n",
    "        for s in range(steps):\n",
    "            self.step()"
   ]
  },
  {
   "cell_type": "markdown",
   "metadata": {},
   "source": [
    "Let's execute the model:"
   ]
  },
  {
   "cell_type": "code",
   "execution_count": null,
   "metadata": {},
   "outputs": [],
   "source": [
    "model = InfectionModel()\n",
    "results = model.run(steps=50)"
   ]
  },
  {
   "cell_type": "markdown",
   "metadata": {},
   "source": [
    "Below, you can see the number of infections per time step."
   ]
  },
  {
   "cell_type": "code",
   "execution_count": null,
   "metadata": {},
   "outputs": [],
   "source": [
    "import matplotlib.pyplot as plt\n",
    "\n",
    "data1 = results.variables.InfectionModel.cumulative_infections\n",
    "\n",
    "plt.plot(data1)\n",
    "plt.grid()\n",
    "plt.xlabel(\"Tick\")\n",
    "plt.ylabel(\"Infections\")"
   ]
  },
  {
   "cell_type": "markdown",
   "metadata": {},
   "source": [
    "Just because we can, let's have look at the network:"
   ]
  },
  {
   "cell_type": "code",
   "execution_count": null,
   "metadata": {},
   "outputs": [],
   "source": [
    "model.inspector.plot_bipartite_network()"
   ]
  },
  {
   "cell_type": "code",
   "execution_count": null,
   "metadata": {},
   "outputs": [],
   "source": [
    "model.inspector.plot_actor_network()"
   ]
  },
  {
   "cell_type": "markdown",
   "metadata": {},
   "source": [
    "## Simulations on dynamic networks\n",
    "\n",
    "Up to now, we have had purely static networks that have not changed once they have been created.\n",
    "In pop2net, there are two ways to change the networks during the simulation.\n",
    "Firstly, agents can leave and join locations using the location methods `remove_agent()` and `add_agent()`, for instance.\n",
    "If a complete *move* of the agent from one location to another is not necessary, the connection weights between the agent and the location can also simply be varied.\n",
    "In the following, we will have a look at this method to create dynamic networks.\n",
    "\n",
    "We now want to add another property to the infection simulation: Agents only visit the school or workplace if they are not currently symptomatically ill.\n",
    "In order to exclude agents who are symptomatically ill from schools and workplaces, we adapt the `weight()` method in each case.\n",
    "As the weights can now change in every time step, we have to make sure that the weights are updated in every time step.\n",
    "Therefore we add the line `self.update_weights(location_labels=[\"Home\", \"School\", \"Work\"])` to `model.step()` which updates the edge weights between all agents and locations of the types `Home`, `School` and `Work` in every time step."
   ]
  },
  {
   "cell_type": "code",
   "execution_count": null,
   "metadata": {},
   "outputs": [],
   "source": [
    "class Home(p2n.LocationDesigner):\n",
    "    def split(self, agent):\n",
    "        return agent.hid\n",
    "\n",
    "    def weight(self, agent):\n",
    "        if agent.infection_status == \"symptomatic\":\n",
    "            return 3\n",
    "        else:\n",
    "            return 12\n",
    "\n",
    "\n",
    "class Work(p2n.LocationDesigner):\n",
    "    n_agents = 10\n",
    "\n",
    "    def filter(self, agent):\n",
    "        return True if agent.work_hours_day > 0 and agent.nace2_division > 0 else False\n",
    "\n",
    "    def split(self, agent):\n",
    "        return agent.nace2_division\n",
    "\n",
    "    def weight(self, agent):\n",
    "        if agent.infection_status == \"symptomatic\":\n",
    "            return 0\n",
    "        else:\n",
    "            return agent.work_hours_day\n",
    "\n",
    "\n",
    "class School(p2n.LocationDesigner):\n",
    "    n_agents = 25\n",
    "\n",
    "    def filter(self, agent):\n",
    "        return True if 6 <= agent.age <= 18 else False\n",
    "\n",
    "    def split(self, agent):\n",
    "        return agent.age\n",
    "\n",
    "    def weight(self, agent):\n",
    "        if agent.infection_status == \"symptomatic\":\n",
    "            return 0\n",
    "        else:\n",
    "            return 6\n",
    "\n",
    "\n",
    "class Ring(p2n.LocationDesigner):\n",
    "    def setup(self):\n",
    "        self.nxgraph = nx.cycle_graph(n=len(self.model.agents))"
   ]
  },
  {
   "cell_type": "code",
   "execution_count": null,
   "metadata": {},
   "outputs": [],
   "source": [
    "import datetime as dt\n",
    "\n",
    "\n",
    "class InfectionModel(p2n.Model):\n",
    "    def setup(self):\n",
    "        self.creator = p2n.Creator(model=self)\n",
    "        self.creator.create(\n",
    "            df=df_soep,\n",
    "            agent_class=Agent,\n",
    "            location_designers=[\n",
    "                Home,\n",
    "                Work,\n",
    "                School,\n",
    "                Ring,\n",
    "            ],\n",
    "        )\n",
    "        self.date = dt.date(2022, 1, 1)\n",
    "\n",
    "        for agent in random.choices(self.agents, k=10):\n",
    "            agent.infection_status = \"exposed\"\n",
    "\n",
    "    def step(self):\n",
    "        self.update_weights(location_labels=[\"Home\", \"School\", \"Work\"])\n",
    "        self.agents.update_infection_status()\n",
    "        self.agents.infect()\n",
    "\n",
    "    def update(self):\n",
    "        self.record(\n",
    "            \"cumulative_infections\",\n",
    "            sum([1 for agent in self.agents if agent.infection_status != \"susceptible\"]),\n",
    "        )"
   ]
  },
  {
   "cell_type": "code",
   "execution_count": null,
   "metadata": {},
   "outputs": [],
   "source": [
    "class Agent(p2n.Agent):\n",
    "    def __init__(self, model, *args, **kwargs):\n",
    "        super().__init__(model, *args, **kwargs)\n",
    "        self.infection_status = \"susceptible\"\n",
    "        self.days_since_infection = 0\n",
    "\n",
    "    def infect(self):\n",
    "        if self.infection_status in [\"infectious\", \"symptomatic\"]:\n",
    "            for agent_v in self.neighbors():\n",
    "                if agent_v.infection_status == \"susceptible\":\n",
    "                    contact_weight = self.get_agent_weight(agent_v)\n",
    "                    infection_probability = 0.01 * contact_weight\n",
    "\n",
    "                    if random.random() < infection_probability:\n",
    "                        agent_v.infection_status = \"exposed\"\n",
    "\n",
    "    def update_infection_status(self):\n",
    "        if self.infection_status in [\"exposed\", \"infectious\", \"symptomatic\"]:\n",
    "            self.days_since_infection += 1\n",
    "\n",
    "            if 1 <= self.days_since_infection <= 2:\n",
    "                self.infection_status = \"infectious\"\n",
    "\n",
    "            elif 3 <= self.days_since_infection <= 10:\n",
    "                self.infection_status = \"symptomatic\"\n",
    "\n",
    "            elif self.days_since_infection >= 11:\n",
    "                self.infection_status = \"recovered\""
   ]
  },
  {
   "cell_type": "code",
   "execution_count": null,
   "metadata": {},
   "outputs": [],
   "source": [
    "model = InfectionModel()\n",
    "results = model.run(steps=50)"
   ]
  },
  {
   "cell_type": "code",
   "execution_count": null,
   "metadata": {},
   "outputs": [],
   "source": [
    "data2 = results.variables.InfectionModel.cumulative_infections\n",
    "\n",
    "plt.plot(data1, label=\"Simulation 1\")\n",
    "plt.plot(data2, label=\"Simulation 2\")\n",
    "plt.xlabel(\"Tick\")\n",
    "plt.ylabel(\"Infections\")\n",
    "plt.legend()\n",
    "plt.grid()"
   ]
  }
 ],
 "metadata": {
  "kernelspec": {
   "display_name": ".venv",
   "language": "python",
   "name": "python3"
  },
  "language_info": {
   "codemirror_mode": {
    "name": "ipython",
    "version": 3
   },
   "file_extension": ".py",
   "mimetype": "text/x-python",
   "name": "python",
   "nbconvert_exporter": "python",
   "pygments_lexer": "ipython3",
   "version": "3.11.0"
  }
 },
 "nbformat": 4,
 "nbformat_minor": 2
}
